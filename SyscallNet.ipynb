{
  "nbformat": 4,
  "nbformat_minor": 0,
  "metadata": {
    "colab": {
      "provenance": []
    },
    "kernelspec": {
      "name": "python3",
      "display_name": "Python 3"
    },
    "language_info": {
      "name": "python"
    }
  },
  "cells": [
    {
      "cell_type": "markdown",
      "source": [
        "## Загрузка датасета"
      ],
      "metadata": {
        "id": "a9l9w1E0UkIh"
      }
    },
    {
      "cell_type": "code",
      "source": [
        "from google.colab import drive\n",
        "drive.mount('/content/drive')"
      ],
      "metadata": {
        "colab": {
          "base_uri": "https://localhost:8080/"
        },
        "id": "qTi7xtVXUhEC",
        "outputId": "c5ab4d45-111f-461e-9db8-3785287429fa"
      },
      "execution_count": 360,
      "outputs": [
        {
          "output_type": "stream",
          "name": "stdout",
          "text": [
            "Drive already mounted at /content/drive; to attempt to forcibly remount, call drive.mount(\"/content/drive\", force_remount=True).\n"
          ]
        }
      ]
    },
    {
      "cell_type": "code",
      "source": [
        "%cd /content/drive/My Drive/Colab Notebooks/Diplom2024/Code/dataset"
      ],
      "metadata": {
        "colab": {
          "base_uri": "https://localhost:8080/"
        },
        "id": "RDolrPIIUq8O",
        "outputId": "06418b1c-0007-48d1-f07c-1ba9880ce085"
      },
      "execution_count": 361,
      "outputs": [
        {
          "output_type": "stream",
          "name": "stdout",
          "text": [
            "/content/drive/My Drive/Colab Notebooks/Diplom2024/Code/dataset\n"
          ]
        }
      ]
    },
    {
      "cell_type": "code",
      "source": [
        "import os\n",
        "import torch\n",
        "from torch import nn\n",
        "from torch.utils.data import DataLoader\n",
        "from torchvision import datasets, transforms\n",
        "import pandas as pd\n"
      ],
      "metadata": {
        "id": "ZA9PVeBLX2UA"
      },
      "execution_count": 362,
      "outputs": []
    },
    {
      "cell_type": "code",
      "source": [
        "dataset = pd.read_csv(\"syscalls_dataset.csv\", delimiter=\";\")"
      ],
      "metadata": {
        "id": "SNpJb7g9Yw3d"
      },
      "execution_count": 363,
      "outputs": []
    },
    {
      "cell_type": "code",
      "source": [
        "dataset"
      ],
      "metadata": {
        "colab": {
          "base_uri": "https://localhost:8080/",
          "height": 1000
        },
        "id": "_INW1C2-ZSpH",
        "outputId": "40833975-9bac-4cdd-c719-a3a1882f7c7c"
      },
      "execution_count": 364,
      "outputs": [
        {
          "output_type": "execute_result",
          "data": {
            "text/plain": [
              "                                        last syscalls  \\\n",
              "0   execvesyscall(\"/usr/bin/uname\", [\"uname\"], 0x7...   \n",
              "1   brksyscall(NULL)syscall0x55f6bffa6000last_n_sy...   \n",
              "2   arch_prctlsyscall(0x3001 /* ARCH_??? */, 0x7ff...   \n",
              "3   mmapsyscall(NULL, 8192, PROT_READ|PROT_WRITE, ...   \n",
              "4   accesssyscall(\"/etc/ld.so.preload\", R_OK)sysca...   \n",
              "5   openatsyscall(AT_FDCWD, \"/etc/ld.so.cache\", O_...   \n",
              "6   newfstatatsyscall(3, \"\", {st_mode=S_IFREG|0644...   \n",
              "7   mmapsyscall(NULL, 108635, PROT_READ, MAP_PRIVA...   \n",
              "8   closesyscall(3)syscall0last_n_syscallsopenatsy...   \n",
              "9   openatsyscall(AT_FDCWD, \"/lib/x86_64-linux-gnu...   \n",
              "10  readsyscall(3, \"\\177ELF\\2\\1\\1\\3\\0\\0\\0\\0\\0\\0\\0\\...   \n",
              "11  pread64syscall(3, \"\\6\\0\\0\\0\\4\\0\\0\\0@\\0\\0\\0\\0\\0...   \n",
              "12  pread64syscall(3, \"\\4\\0\\0\\0 \\0\\0\\0\\5\\0\\0\\0GNU\\...   \n",
              "13  pread64syscall(3, \"\\4\\0\\0\\0\\24\\0\\0\\0\\3\\0\\0\\0GN...   \n",
              "14  newfstatatsyscall(3, \"\", {st_mode=S_IFREG|0755...   \n",
              "15  pread64syscall(3, \"\\6\\0\\0\\0\\4\\0\\0\\0@\\0\\0\\0\\0\\0...   \n",
              "16  mmapsyscall(NULL, 2264656, PROT_READ, MAP_PRIV...   \n",
              "17  mprotectsyscall(0x7fcbef4e2000, 2023424, PROT_...   \n",
              "18  mmapsyscall(0x7fcbef4e2000, 1658880, PROT_READ...   \n",
              "19  mmapsyscall(0x7fcbef677000, 360448, PROT_READ,...   \n",
              "20  mmapsyscall(0x7fcbef6d0000, 24576, PROT_READ|P...   \n",
              "21  mmapsyscall(0x7fcbef6d6000, 52816, PROT_READ|P...   \n",
              "22  closesyscall(3)syscall0last_n_syscallsmmapsysc...   \n",
              "23  mmapsyscall(NULL, 12288, PROT_READ|PROT_WRITE,...   \n",
              "24  arch_prctlsyscall(ARCH_SET_FS, 0x7fcbef4b7740)...   \n",
              "25  set_tid_addresssyscall(0x7fcbef4b7a10)syscall3...   \n",
              "26  set_robust_listsyscall(0x7fcbef4b7a20, 24)sysc...   \n",
              "27  rseqsyscall(0x7fcbef4b80e0, 0x20, 0, 0x5305305...   \n",
              "28  mprotectsyscall(0x7fcbef6d0000, 16384, PROT_RE...   \n",
              "29  mprotectsyscall(0x55f6be63c000, 4096, PROT_REA...   \n",
              "30  mprotectsyscall(0x7fcbef738000, 8192, PROT_REA...   \n",
              "31  prlimit64syscall(0, RLIMIT_STACK, NULL, {rlim_...   \n",
              "32  munmapsyscall(0x7fcbef6e3000, 108635)syscall0l...   \n",
              "33  getrandomsyscall(\"\\x9c\\xe9\\x9b\\x75\\x66\\x2b\\xe8...   \n",
              "34  brksyscall(NULL)syscall0x55f6bffa6000last_n_sy...   \n",
              "35  brksyscall(0x55f6bffc7000)syscall0x55f6bffc700...   \n",
              "36  openatsyscall(AT_FDCWD, \"/usr/lib/locale/local...   \n",
              "37  newfstatatsyscall(3, \"\", {st_mode=S_IFREG|0644...   \n",
              "38  mmapsyscall(NULL, 5721376, PROT_READ, MAP_PRIV...   \n",
              "39  closesyscall(3)syscall0last_n_syscallsunamesys...   \n",
              "40  unamesyscall({sysname=\"Linux\", nodename=\"maste...   \n",
              "\n",
              "                                              syscall  \n",
              "0   openatsyscall(AT_FDCWD, \"/etc/ld.so.cache\", O_...  \n",
              "1   newfstatatsyscall(3, \"\", {st_mode=S_IFREG|0644...  \n",
              "2   mmapsyscall(NULL, 108635, PROT_READ, MAP_PRIVA...  \n",
              "3                             closesyscall(3)syscall0  \n",
              "4   openatsyscall(AT_FDCWD, \"/lib/x86_64-linux-gnu...  \n",
              "5   readsyscall(3, \"\\177ELF\\2\\1\\1\\3\\0\\0\\0\\0\\0\\0\\0\\...  \n",
              "6   pread64syscall(3, \"\\6\\0\\0\\0\\4\\0\\0\\0@\\0\\0\\0\\0\\0...  \n",
              "7   pread64syscall(3, \"\\4\\0\\0\\0 \\0\\0\\0\\5\\0\\0\\0GNU\\...  \n",
              "8   pread64syscall(3, \"\\4\\0\\0\\0\\24\\0\\0\\0\\3\\0\\0\\0GN...  \n",
              "9   newfstatatsyscall(3, \"\", {st_mode=S_IFREG|0755...  \n",
              "10  pread64syscall(3, \"\\6\\0\\0\\0\\4\\0\\0\\0@\\0\\0\\0\\0\\0...  \n",
              "11  mmapsyscall(NULL, 2264656, PROT_READ, MAP_PRIV...  \n",
              "12  mprotectsyscall(0x7fcbef4e2000, 2023424, PROT_...  \n",
              "13  mmapsyscall(0x7fcbef4e2000, 1658880, PROT_READ...  \n",
              "14  mmapsyscall(0x7fcbef677000, 360448, PROT_READ,...  \n",
              "15  mmapsyscall(0x7fcbef6d0000, 24576, PROT_READ|P...  \n",
              "16  mmapsyscall(0x7fcbef6d6000, 52816, PROT_READ|P...  \n",
              "17                            closesyscall(3)syscall0  \n",
              "18  mmapsyscall(NULL, 12288, PROT_READ|PROT_WRITE,...  \n",
              "19  arch_prctlsyscall(ARCH_SET_FS, 0x7fcbef4b7740)...  \n",
              "20  set_tid_addresssyscall(0x7fcbef4b7a10)syscall3...  \n",
              "21  set_robust_listsyscall(0x7fcbef4b7a20, 24)sysc...  \n",
              "22  rseqsyscall(0x7fcbef4b80e0, 0x20, 0, 0x5305305...  \n",
              "23  mprotectsyscall(0x7fcbef6d0000, 16384, PROT_RE...  \n",
              "24  mprotectsyscall(0x55f6be63c000, 4096, PROT_REA...  \n",
              "25  mprotectsyscall(0x7fcbef738000, 8192, PROT_REA...  \n",
              "26  prlimit64syscall(0, RLIMIT_STACK, NULL, {rlim_...  \n",
              "27      munmapsyscall(0x7fcbef6e3000, 108635)syscall0  \n",
              "28  getrandomsyscall(\"\\x9c\\xe9\\x9b\\x75\\x66\\x2b\\xe8...  \n",
              "29              brksyscall(NULL)syscall0x55f6bffa6000  \n",
              "30    brksyscall(0x55f6bffc7000)syscall0x55f6bffc7000  \n",
              "31  openatsyscall(AT_FDCWD, \"/usr/lib/locale/local...  \n",
              "32  newfstatatsyscall(3, \"\", {st_mode=S_IFREG|0644...  \n",
              "33  mmapsyscall(NULL, 5721376, PROT_READ, MAP_PRIV...  \n",
              "34                            closesyscall(3)syscall0  \n",
              "35  unamesyscall({sysname=\"Linux\", nodename=\"maste...  \n",
              "36  newfstatatsyscall(1, \"\", {st_mode=S_IFCHR|0620...  \n",
              "37              writesyscall(1, \"Linux\\n\", 6)syscall6  \n",
              "38                            closesyscall(1)syscall0  \n",
              "39                            closesyscall(2)syscall0  \n",
              "40                       exit_groupsyscall(0)syscall?  "
            ],
            "text/html": [
              "\n",
              "  <div id=\"df-c758efd7-0f8f-4728-8360-a34238c2da8a\" class=\"colab-df-container\">\n",
              "    <div>\n",
              "<style scoped>\n",
              "    .dataframe tbody tr th:only-of-type {\n",
              "        vertical-align: middle;\n",
              "    }\n",
              "\n",
              "    .dataframe tbody tr th {\n",
              "        vertical-align: top;\n",
              "    }\n",
              "\n",
              "    .dataframe thead th {\n",
              "        text-align: right;\n",
              "    }\n",
              "</style>\n",
              "<table border=\"1\" class=\"dataframe\">\n",
              "  <thead>\n",
              "    <tr style=\"text-align: right;\">\n",
              "      <th></th>\n",
              "      <th>last syscalls</th>\n",
              "      <th>syscall</th>\n",
              "    </tr>\n",
              "  </thead>\n",
              "  <tbody>\n",
              "    <tr>\n",
              "      <th>0</th>\n",
              "      <td>execvesyscall(\"/usr/bin/uname\", [\"uname\"], 0x7...</td>\n",
              "      <td>openatsyscall(AT_FDCWD, \"/etc/ld.so.cache\", O_...</td>\n",
              "    </tr>\n",
              "    <tr>\n",
              "      <th>1</th>\n",
              "      <td>brksyscall(NULL)syscall0x55f6bffa6000last_n_sy...</td>\n",
              "      <td>newfstatatsyscall(3, \"\", {st_mode=S_IFREG|0644...</td>\n",
              "    </tr>\n",
              "    <tr>\n",
              "      <th>2</th>\n",
              "      <td>arch_prctlsyscall(0x3001 /* ARCH_??? */, 0x7ff...</td>\n",
              "      <td>mmapsyscall(NULL, 108635, PROT_READ, MAP_PRIVA...</td>\n",
              "    </tr>\n",
              "    <tr>\n",
              "      <th>3</th>\n",
              "      <td>mmapsyscall(NULL, 8192, PROT_READ|PROT_WRITE, ...</td>\n",
              "      <td>closesyscall(3)syscall0</td>\n",
              "    </tr>\n",
              "    <tr>\n",
              "      <th>4</th>\n",
              "      <td>accesssyscall(\"/etc/ld.so.preload\", R_OK)sysca...</td>\n",
              "      <td>openatsyscall(AT_FDCWD, \"/lib/x86_64-linux-gnu...</td>\n",
              "    </tr>\n",
              "    <tr>\n",
              "      <th>5</th>\n",
              "      <td>openatsyscall(AT_FDCWD, \"/etc/ld.so.cache\", O_...</td>\n",
              "      <td>readsyscall(3, \"\\177ELF\\2\\1\\1\\3\\0\\0\\0\\0\\0\\0\\0\\...</td>\n",
              "    </tr>\n",
              "    <tr>\n",
              "      <th>6</th>\n",
              "      <td>newfstatatsyscall(3, \"\", {st_mode=S_IFREG|0644...</td>\n",
              "      <td>pread64syscall(3, \"\\6\\0\\0\\0\\4\\0\\0\\0@\\0\\0\\0\\0\\0...</td>\n",
              "    </tr>\n",
              "    <tr>\n",
              "      <th>7</th>\n",
              "      <td>mmapsyscall(NULL, 108635, PROT_READ, MAP_PRIVA...</td>\n",
              "      <td>pread64syscall(3, \"\\4\\0\\0\\0 \\0\\0\\0\\5\\0\\0\\0GNU\\...</td>\n",
              "    </tr>\n",
              "    <tr>\n",
              "      <th>8</th>\n",
              "      <td>closesyscall(3)syscall0last_n_syscallsopenatsy...</td>\n",
              "      <td>pread64syscall(3, \"\\4\\0\\0\\0\\24\\0\\0\\0\\3\\0\\0\\0GN...</td>\n",
              "    </tr>\n",
              "    <tr>\n",
              "      <th>9</th>\n",
              "      <td>openatsyscall(AT_FDCWD, \"/lib/x86_64-linux-gnu...</td>\n",
              "      <td>newfstatatsyscall(3, \"\", {st_mode=S_IFREG|0755...</td>\n",
              "    </tr>\n",
              "    <tr>\n",
              "      <th>10</th>\n",
              "      <td>readsyscall(3, \"\\177ELF\\2\\1\\1\\3\\0\\0\\0\\0\\0\\0\\0\\...</td>\n",
              "      <td>pread64syscall(3, \"\\6\\0\\0\\0\\4\\0\\0\\0@\\0\\0\\0\\0\\0...</td>\n",
              "    </tr>\n",
              "    <tr>\n",
              "      <th>11</th>\n",
              "      <td>pread64syscall(3, \"\\6\\0\\0\\0\\4\\0\\0\\0@\\0\\0\\0\\0\\0...</td>\n",
              "      <td>mmapsyscall(NULL, 2264656, PROT_READ, MAP_PRIV...</td>\n",
              "    </tr>\n",
              "    <tr>\n",
              "      <th>12</th>\n",
              "      <td>pread64syscall(3, \"\\4\\0\\0\\0 \\0\\0\\0\\5\\0\\0\\0GNU\\...</td>\n",
              "      <td>mprotectsyscall(0x7fcbef4e2000, 2023424, PROT_...</td>\n",
              "    </tr>\n",
              "    <tr>\n",
              "      <th>13</th>\n",
              "      <td>pread64syscall(3, \"\\4\\0\\0\\0\\24\\0\\0\\0\\3\\0\\0\\0GN...</td>\n",
              "      <td>mmapsyscall(0x7fcbef4e2000, 1658880, PROT_READ...</td>\n",
              "    </tr>\n",
              "    <tr>\n",
              "      <th>14</th>\n",
              "      <td>newfstatatsyscall(3, \"\", {st_mode=S_IFREG|0755...</td>\n",
              "      <td>mmapsyscall(0x7fcbef677000, 360448, PROT_READ,...</td>\n",
              "    </tr>\n",
              "    <tr>\n",
              "      <th>15</th>\n",
              "      <td>pread64syscall(3, \"\\6\\0\\0\\0\\4\\0\\0\\0@\\0\\0\\0\\0\\0...</td>\n",
              "      <td>mmapsyscall(0x7fcbef6d0000, 24576, PROT_READ|P...</td>\n",
              "    </tr>\n",
              "    <tr>\n",
              "      <th>16</th>\n",
              "      <td>mmapsyscall(NULL, 2264656, PROT_READ, MAP_PRIV...</td>\n",
              "      <td>mmapsyscall(0x7fcbef6d6000, 52816, PROT_READ|P...</td>\n",
              "    </tr>\n",
              "    <tr>\n",
              "      <th>17</th>\n",
              "      <td>mprotectsyscall(0x7fcbef4e2000, 2023424, PROT_...</td>\n",
              "      <td>closesyscall(3)syscall0</td>\n",
              "    </tr>\n",
              "    <tr>\n",
              "      <th>18</th>\n",
              "      <td>mmapsyscall(0x7fcbef4e2000, 1658880, PROT_READ...</td>\n",
              "      <td>mmapsyscall(NULL, 12288, PROT_READ|PROT_WRITE,...</td>\n",
              "    </tr>\n",
              "    <tr>\n",
              "      <th>19</th>\n",
              "      <td>mmapsyscall(0x7fcbef677000, 360448, PROT_READ,...</td>\n",
              "      <td>arch_prctlsyscall(ARCH_SET_FS, 0x7fcbef4b7740)...</td>\n",
              "    </tr>\n",
              "    <tr>\n",
              "      <th>20</th>\n",
              "      <td>mmapsyscall(0x7fcbef6d0000, 24576, PROT_READ|P...</td>\n",
              "      <td>set_tid_addresssyscall(0x7fcbef4b7a10)syscall3...</td>\n",
              "    </tr>\n",
              "    <tr>\n",
              "      <th>21</th>\n",
              "      <td>mmapsyscall(0x7fcbef6d6000, 52816, PROT_READ|P...</td>\n",
              "      <td>set_robust_listsyscall(0x7fcbef4b7a20, 24)sysc...</td>\n",
              "    </tr>\n",
              "    <tr>\n",
              "      <th>22</th>\n",
              "      <td>closesyscall(3)syscall0last_n_syscallsmmapsysc...</td>\n",
              "      <td>rseqsyscall(0x7fcbef4b80e0, 0x20, 0, 0x5305305...</td>\n",
              "    </tr>\n",
              "    <tr>\n",
              "      <th>23</th>\n",
              "      <td>mmapsyscall(NULL, 12288, PROT_READ|PROT_WRITE,...</td>\n",
              "      <td>mprotectsyscall(0x7fcbef6d0000, 16384, PROT_RE...</td>\n",
              "    </tr>\n",
              "    <tr>\n",
              "      <th>24</th>\n",
              "      <td>arch_prctlsyscall(ARCH_SET_FS, 0x7fcbef4b7740)...</td>\n",
              "      <td>mprotectsyscall(0x55f6be63c000, 4096, PROT_REA...</td>\n",
              "    </tr>\n",
              "    <tr>\n",
              "      <th>25</th>\n",
              "      <td>set_tid_addresssyscall(0x7fcbef4b7a10)syscall3...</td>\n",
              "      <td>mprotectsyscall(0x7fcbef738000, 8192, PROT_REA...</td>\n",
              "    </tr>\n",
              "    <tr>\n",
              "      <th>26</th>\n",
              "      <td>set_robust_listsyscall(0x7fcbef4b7a20, 24)sysc...</td>\n",
              "      <td>prlimit64syscall(0, RLIMIT_STACK, NULL, {rlim_...</td>\n",
              "    </tr>\n",
              "    <tr>\n",
              "      <th>27</th>\n",
              "      <td>rseqsyscall(0x7fcbef4b80e0, 0x20, 0, 0x5305305...</td>\n",
              "      <td>munmapsyscall(0x7fcbef6e3000, 108635)syscall0</td>\n",
              "    </tr>\n",
              "    <tr>\n",
              "      <th>28</th>\n",
              "      <td>mprotectsyscall(0x7fcbef6d0000, 16384, PROT_RE...</td>\n",
              "      <td>getrandomsyscall(\"\\x9c\\xe9\\x9b\\x75\\x66\\x2b\\xe8...</td>\n",
              "    </tr>\n",
              "    <tr>\n",
              "      <th>29</th>\n",
              "      <td>mprotectsyscall(0x55f6be63c000, 4096, PROT_REA...</td>\n",
              "      <td>brksyscall(NULL)syscall0x55f6bffa6000</td>\n",
              "    </tr>\n",
              "    <tr>\n",
              "      <th>30</th>\n",
              "      <td>mprotectsyscall(0x7fcbef738000, 8192, PROT_REA...</td>\n",
              "      <td>brksyscall(0x55f6bffc7000)syscall0x55f6bffc7000</td>\n",
              "    </tr>\n",
              "    <tr>\n",
              "      <th>31</th>\n",
              "      <td>prlimit64syscall(0, RLIMIT_STACK, NULL, {rlim_...</td>\n",
              "      <td>openatsyscall(AT_FDCWD, \"/usr/lib/locale/local...</td>\n",
              "    </tr>\n",
              "    <tr>\n",
              "      <th>32</th>\n",
              "      <td>munmapsyscall(0x7fcbef6e3000, 108635)syscall0l...</td>\n",
              "      <td>newfstatatsyscall(3, \"\", {st_mode=S_IFREG|0644...</td>\n",
              "    </tr>\n",
              "    <tr>\n",
              "      <th>33</th>\n",
              "      <td>getrandomsyscall(\"\\x9c\\xe9\\x9b\\x75\\x66\\x2b\\xe8...</td>\n",
              "      <td>mmapsyscall(NULL, 5721376, PROT_READ, MAP_PRIV...</td>\n",
              "    </tr>\n",
              "    <tr>\n",
              "      <th>34</th>\n",
              "      <td>brksyscall(NULL)syscall0x55f6bffa6000last_n_sy...</td>\n",
              "      <td>closesyscall(3)syscall0</td>\n",
              "    </tr>\n",
              "    <tr>\n",
              "      <th>35</th>\n",
              "      <td>brksyscall(0x55f6bffc7000)syscall0x55f6bffc700...</td>\n",
              "      <td>unamesyscall({sysname=\"Linux\", nodename=\"maste...</td>\n",
              "    </tr>\n",
              "    <tr>\n",
              "      <th>36</th>\n",
              "      <td>openatsyscall(AT_FDCWD, \"/usr/lib/locale/local...</td>\n",
              "      <td>newfstatatsyscall(1, \"\", {st_mode=S_IFCHR|0620...</td>\n",
              "    </tr>\n",
              "    <tr>\n",
              "      <th>37</th>\n",
              "      <td>newfstatatsyscall(3, \"\", {st_mode=S_IFREG|0644...</td>\n",
              "      <td>writesyscall(1, \"Linux\\n\", 6)syscall6</td>\n",
              "    </tr>\n",
              "    <tr>\n",
              "      <th>38</th>\n",
              "      <td>mmapsyscall(NULL, 5721376, PROT_READ, MAP_PRIV...</td>\n",
              "      <td>closesyscall(1)syscall0</td>\n",
              "    </tr>\n",
              "    <tr>\n",
              "      <th>39</th>\n",
              "      <td>closesyscall(3)syscall0last_n_syscallsunamesys...</td>\n",
              "      <td>closesyscall(2)syscall0</td>\n",
              "    </tr>\n",
              "    <tr>\n",
              "      <th>40</th>\n",
              "      <td>unamesyscall({sysname=\"Linux\", nodename=\"maste...</td>\n",
              "      <td>exit_groupsyscall(0)syscall?</td>\n",
              "    </tr>\n",
              "  </tbody>\n",
              "</table>\n",
              "</div>\n",
              "    <div class=\"colab-df-buttons\">\n",
              "\n",
              "  <div class=\"colab-df-container\">\n",
              "    <button class=\"colab-df-convert\" onclick=\"convertToInteractive('df-c758efd7-0f8f-4728-8360-a34238c2da8a')\"\n",
              "            title=\"Convert this dataframe to an interactive table.\"\n",
              "            style=\"display:none;\">\n",
              "\n",
              "  <svg xmlns=\"http://www.w3.org/2000/svg\" height=\"24px\" viewBox=\"0 -960 960 960\">\n",
              "    <path d=\"M120-120v-720h720v720H120Zm60-500h600v-160H180v160Zm220 220h160v-160H400v160Zm0 220h160v-160H400v160ZM180-400h160v-160H180v160Zm440 0h160v-160H620v160ZM180-180h160v-160H180v160Zm440 0h160v-160H620v160Z\"/>\n",
              "  </svg>\n",
              "    </button>\n",
              "\n",
              "  <style>\n",
              "    .colab-df-container {\n",
              "      display:flex;\n",
              "      gap: 12px;\n",
              "    }\n",
              "\n",
              "    .colab-df-convert {\n",
              "      background-color: #E8F0FE;\n",
              "      border: none;\n",
              "      border-radius: 50%;\n",
              "      cursor: pointer;\n",
              "      display: none;\n",
              "      fill: #1967D2;\n",
              "      height: 32px;\n",
              "      padding: 0 0 0 0;\n",
              "      width: 32px;\n",
              "    }\n",
              "\n",
              "    .colab-df-convert:hover {\n",
              "      background-color: #E2EBFA;\n",
              "      box-shadow: 0px 1px 2px rgba(60, 64, 67, 0.3), 0px 1px 3px 1px rgba(60, 64, 67, 0.15);\n",
              "      fill: #174EA6;\n",
              "    }\n",
              "\n",
              "    .colab-df-buttons div {\n",
              "      margin-bottom: 4px;\n",
              "    }\n",
              "\n",
              "    [theme=dark] .colab-df-convert {\n",
              "      background-color: #3B4455;\n",
              "      fill: #D2E3FC;\n",
              "    }\n",
              "\n",
              "    [theme=dark] .colab-df-convert:hover {\n",
              "      background-color: #434B5C;\n",
              "      box-shadow: 0px 1px 3px 1px rgba(0, 0, 0, 0.15);\n",
              "      filter: drop-shadow(0px 1px 2px rgba(0, 0, 0, 0.3));\n",
              "      fill: #FFFFFF;\n",
              "    }\n",
              "  </style>\n",
              "\n",
              "    <script>\n",
              "      const buttonEl =\n",
              "        document.querySelector('#df-c758efd7-0f8f-4728-8360-a34238c2da8a button.colab-df-convert');\n",
              "      buttonEl.style.display =\n",
              "        google.colab.kernel.accessAllowed ? 'block' : 'none';\n",
              "\n",
              "      async function convertToInteractive(key) {\n",
              "        const element = document.querySelector('#df-c758efd7-0f8f-4728-8360-a34238c2da8a');\n",
              "        const dataTable =\n",
              "          await google.colab.kernel.invokeFunction('convertToInteractive',\n",
              "                                                    [key], {});\n",
              "        if (!dataTable) return;\n",
              "\n",
              "        const docLinkHtml = 'Like what you see? Visit the ' +\n",
              "          '<a target=\"_blank\" href=https://colab.research.google.com/notebooks/data_table.ipynb>data table notebook</a>'\n",
              "          + ' to learn more about interactive tables.';\n",
              "        element.innerHTML = '';\n",
              "        dataTable['output_type'] = 'display_data';\n",
              "        await google.colab.output.renderOutput(dataTable, element);\n",
              "        const docLink = document.createElement('div');\n",
              "        docLink.innerHTML = docLinkHtml;\n",
              "        element.appendChild(docLink);\n",
              "      }\n",
              "    </script>\n",
              "  </div>\n",
              "\n",
              "\n",
              "<div id=\"df-ff3a40f2-a3dd-4ebd-bddd-1765cfd9a8ea\">\n",
              "  <button class=\"colab-df-quickchart\" onclick=\"quickchart('df-ff3a40f2-a3dd-4ebd-bddd-1765cfd9a8ea')\"\n",
              "            title=\"Suggest charts\"\n",
              "            style=\"display:none;\">\n",
              "\n",
              "<svg xmlns=\"http://www.w3.org/2000/svg\" height=\"24px\"viewBox=\"0 0 24 24\"\n",
              "     width=\"24px\">\n",
              "    <g>\n",
              "        <path d=\"M19 3H5c-1.1 0-2 .9-2 2v14c0 1.1.9 2 2 2h14c1.1 0 2-.9 2-2V5c0-1.1-.9-2-2-2zM9 17H7v-7h2v7zm4 0h-2V7h2v10zm4 0h-2v-4h2v4z\"/>\n",
              "    </g>\n",
              "</svg>\n",
              "  </button>\n",
              "\n",
              "<style>\n",
              "  .colab-df-quickchart {\n",
              "      --bg-color: #E8F0FE;\n",
              "      --fill-color: #1967D2;\n",
              "      --hover-bg-color: #E2EBFA;\n",
              "      --hover-fill-color: #174EA6;\n",
              "      --disabled-fill-color: #AAA;\n",
              "      --disabled-bg-color: #DDD;\n",
              "  }\n",
              "\n",
              "  [theme=dark] .colab-df-quickchart {\n",
              "      --bg-color: #3B4455;\n",
              "      --fill-color: #D2E3FC;\n",
              "      --hover-bg-color: #434B5C;\n",
              "      --hover-fill-color: #FFFFFF;\n",
              "      --disabled-bg-color: #3B4455;\n",
              "      --disabled-fill-color: #666;\n",
              "  }\n",
              "\n",
              "  .colab-df-quickchart {\n",
              "    background-color: var(--bg-color);\n",
              "    border: none;\n",
              "    border-radius: 50%;\n",
              "    cursor: pointer;\n",
              "    display: none;\n",
              "    fill: var(--fill-color);\n",
              "    height: 32px;\n",
              "    padding: 0;\n",
              "    width: 32px;\n",
              "  }\n",
              "\n",
              "  .colab-df-quickchart:hover {\n",
              "    background-color: var(--hover-bg-color);\n",
              "    box-shadow: 0 1px 2px rgba(60, 64, 67, 0.3), 0 1px 3px 1px rgba(60, 64, 67, 0.15);\n",
              "    fill: var(--button-hover-fill-color);\n",
              "  }\n",
              "\n",
              "  .colab-df-quickchart-complete:disabled,\n",
              "  .colab-df-quickchart-complete:disabled:hover {\n",
              "    background-color: var(--disabled-bg-color);\n",
              "    fill: var(--disabled-fill-color);\n",
              "    box-shadow: none;\n",
              "  }\n",
              "\n",
              "  .colab-df-spinner {\n",
              "    border: 2px solid var(--fill-color);\n",
              "    border-color: transparent;\n",
              "    border-bottom-color: var(--fill-color);\n",
              "    animation:\n",
              "      spin 1s steps(1) infinite;\n",
              "  }\n",
              "\n",
              "  @keyframes spin {\n",
              "    0% {\n",
              "      border-color: transparent;\n",
              "      border-bottom-color: var(--fill-color);\n",
              "      border-left-color: var(--fill-color);\n",
              "    }\n",
              "    20% {\n",
              "      border-color: transparent;\n",
              "      border-left-color: var(--fill-color);\n",
              "      border-top-color: var(--fill-color);\n",
              "    }\n",
              "    30% {\n",
              "      border-color: transparent;\n",
              "      border-left-color: var(--fill-color);\n",
              "      border-top-color: var(--fill-color);\n",
              "      border-right-color: var(--fill-color);\n",
              "    }\n",
              "    40% {\n",
              "      border-color: transparent;\n",
              "      border-right-color: var(--fill-color);\n",
              "      border-top-color: var(--fill-color);\n",
              "    }\n",
              "    60% {\n",
              "      border-color: transparent;\n",
              "      border-right-color: var(--fill-color);\n",
              "    }\n",
              "    80% {\n",
              "      border-color: transparent;\n",
              "      border-right-color: var(--fill-color);\n",
              "      border-bottom-color: var(--fill-color);\n",
              "    }\n",
              "    90% {\n",
              "      border-color: transparent;\n",
              "      border-bottom-color: var(--fill-color);\n",
              "    }\n",
              "  }\n",
              "</style>\n",
              "\n",
              "  <script>\n",
              "    async function quickchart(key) {\n",
              "      const quickchartButtonEl =\n",
              "        document.querySelector('#' + key + ' button');\n",
              "      quickchartButtonEl.disabled = true;  // To prevent multiple clicks.\n",
              "      quickchartButtonEl.classList.add('colab-df-spinner');\n",
              "      try {\n",
              "        const charts = await google.colab.kernel.invokeFunction(\n",
              "            'suggestCharts', [key], {});\n",
              "      } catch (error) {\n",
              "        console.error('Error during call to suggestCharts:', error);\n",
              "      }\n",
              "      quickchartButtonEl.classList.remove('colab-df-spinner');\n",
              "      quickchartButtonEl.classList.add('colab-df-quickchart-complete');\n",
              "    }\n",
              "    (() => {\n",
              "      let quickchartButtonEl =\n",
              "        document.querySelector('#df-ff3a40f2-a3dd-4ebd-bddd-1765cfd9a8ea button');\n",
              "      quickchartButtonEl.style.display =\n",
              "        google.colab.kernel.accessAllowed ? 'block' : 'none';\n",
              "    })();\n",
              "  </script>\n",
              "</div>\n",
              "    </div>\n",
              "  </div>\n"
            ],
            "application/vnd.google.colaboratory.intrinsic+json": {
              "type": "dataframe",
              "variable_name": "dataset",
              "summary": "{\n  \"name\": \"dataset\",\n  \"rows\": 41,\n  \"fields\": [\n    {\n      \"column\": \"last syscalls\",\n      \"properties\": {\n        \"dtype\": \"string\",\n        \"num_unique_values\": 41,\n        \"samples\": [\n          \"arch_prctlsyscall(ARCH_SET_FS, 0x7fcbef4b7740)syscall0last_n_syscallsset_tid_addresssyscall(0x7fcbef4b7a10)syscall33345last_n_syscallsset_robust_listsyscall(0x7fcbef4b7a20, 24)syscall0last_n_syscallsrseqsyscall(0x7fcbef4b80e0, 0x20, 0, 0x53053053)syscall0last_n_syscallsmprotectsyscall(0x7fcbef6d0000, 16384, PROT_READ)syscall0\",\n          \"pread64syscall(3, \\\"\\\\4\\\\0\\\\0\\\\0\\\\24\\\\0\\\\0\\\\0\\\\3\\\\0\\\\0\\\\0GNU\\\\0\\\\302\\\\211\\\\332Pq\\\\2439\\\\235\\\\350\\\\223\\\\322\\\\257\\\\201\\\\326\\\\243\\\\f\\\"..., 68, 896)syscall68last_n_syscallsnewfstatatsyscall(3, \\\"\\\", {st_mode=S_IFREG|0755, st_size=2220400, ...}, AT_EMPTY_PATH)syscall0last_n_syscallspread64syscall(3, \\\"\\\\6\\\\0\\\\0\\\\0\\\\4\\\\0\\\\0\\\\0@\\\\0\\\\0\\\\0\\\\0\\\\0\\\\0\\\\0@\\\\0\\\\0\\\\0\\\\0\\\\0\\\\0\\\\0@\\\\0\\\\0\\\\0\\\\0\\\\0\\\\0\\\\0\\\"..., 784, 64)syscall784last_n_syscallsmmapsyscall(NULL, 2264656, PROT_READ, MAP_PRIVATE|MAP_DENYWRITE, 3, 0)syscall0x7fcbef4ba000last_n_syscallsmprotectsyscall(0x7fcbef4e2000, 2023424, PROT_NONE)syscall0\",\n          \"closesyscall(3)syscall0last_n_syscallsopenatsyscall(AT_FDCWD, \\\"/lib/x86_64-linux-gnu/libc.so.6\\\", O_RDONLY|O_CLOEXEC)syscall3last_n_syscallsreadsyscall(3, \\\"\\\\177ELF\\\\2\\\\1\\\\1\\\\3\\\\0\\\\0\\\\0\\\\0\\\\0\\\\0\\\\0\\\\0\\\\3\\\\0>\\\\0\\\\1\\\\0\\\\0\\\\0P\\\\237\\\\2\\\\0\\\\0\\\\0\\\\0\\\\0\\\"..., 832)syscall832last_n_syscallspread64syscall(3, \\\"\\\\6\\\\0\\\\0\\\\0\\\\4\\\\0\\\\0\\\\0@\\\\0\\\\0\\\\0\\\\0\\\\0\\\\0\\\\0@\\\\0\\\\0\\\\0\\\\0\\\\0\\\\0\\\\0@\\\\0\\\\0\\\\0\\\\0\\\\0\\\\0\\\\0\\\"..., 784, 64)syscall784last_n_syscallspread64syscall(3, \\\"\\\\4\\\\0\\\\0\\\\0 \\\\0\\\\0\\\\0\\\\5\\\\0\\\\0\\\\0GNU\\\\0\\\\2\\\\0\\\\0\\\\300\\\\4\\\\0\\\\0\\\\0\\\\3\\\\0\\\\0\\\\0\\\\0\\\\0\\\\0\\\\0\\\"..., 48, 848)syscall48\"\n        ],\n        \"semantic_type\": \"\",\n        \"description\": \"\"\n      }\n    },\n    {\n      \"column\": \"syscall\",\n      \"properties\": {\n        \"dtype\": \"string\",\n        \"num_unique_values\": 38,\n        \"samples\": [\n          \"newfstatatsyscall(1, \\\"\\\", {st_mode=S_IFCHR|0620, st_rdev=makedev(0x88, 0x2), ...}, AT_EMPTY_PATH)syscall0\",\n          \"closesyscall(2)syscall0\",\n          \"openatsyscall(AT_FDCWD, \\\"/lib/x86_64-linux-gnu/libc.so.6\\\", O_RDONLY|O_CLOEXEC)syscall3\"\n        ],\n        \"semantic_type\": \"\",\n        \"description\": \"\"\n      }\n    }\n  ]\n}"
            }
          },
          "metadata": {},
          "execution_count": 364
        }
      ]
    },
    {
      "cell_type": "markdown",
      "source": [
        "## Выбор девайса"
      ],
      "metadata": {
        "id": "iLz5hn8Ja5wE"
      }
    },
    {
      "cell_type": "code",
      "source": [
        "device = (\n",
        "    \"cuda\"\n",
        "    if torch.cuda.is_available()\n",
        "    else \"mps\"\n",
        "    if torch.backends.mps.is_available()\n",
        "    else \"cpu\"\n",
        ")\n",
        "print(f\"Using {device} device\")"
      ],
      "metadata": {
        "colab": {
          "base_uri": "https://localhost:8080/"
        },
        "id": "Gfs23dJCCvT3",
        "outputId": "46828e0a-c586-47a6-ace5-9972eabe9923"
      },
      "execution_count": 365,
      "outputs": [
        {
          "output_type": "stream",
          "name": "stdout",
          "text": [
            "Using cpu device\n"
          ]
        }
      ]
    },
    {
      "cell_type": "code",
      "source": [
        "from collections import Counter, defaultdict\n",
        "\n",
        "import numpy as np\n",
        "import pandas as pd\n",
        "import torch\n",
        "from torch.nn import Embedding, Linear, LSTM, Module\n",
        "import torch.nn.functional as F\n",
        "from torch.utils.data import Dataset, DataLoader, SubsetRandomSampler\n",
        "from tqdm import tqdm\n",
        "import re"
      ],
      "metadata": {
        "id": "zt14VO3uvDCV"
      },
      "execution_count": 366,
      "outputs": []
    },
    {
      "cell_type": "markdown",
      "source": [
        "## Разбиение данных на токены"
      ],
      "metadata": {
        "id": "vuIlZp3UwFyi"
      }
    },
    {
      "cell_type": "code",
      "source": [
        "import re\n",
        "\n",
        "def tokenizer(syscalls):\n",
        "    syscalls = syscalls.split(sep='last_n_syscalls')\n",
        "    tokens = []\n",
        "    for syscall in syscalls:\n",
        "        str = syscall.split(sep='syscall')\n",
        "\n",
        "        str = [s if len(s) > 0 else '<pad>' for s in str]\n",
        "\n",
        "        # print(40*'-')\n",
        "        # print('arguments: ', str[1])\n",
        "        # print('res: ', str[2])\n",
        "        # print(40*'-')\n",
        "\n",
        "        tokens.extend(['syscallname',str[0], 'syscallargs', str[1], 'syscallres', str[2], 'syscallend'])\n",
        "\n",
        "    return tokens"
      ],
      "metadata": {
        "id": "5sJ5rHppwL32"
      },
      "execution_count": 367,
      "outputs": []
    },
    {
      "cell_type": "code",
      "source": [
        "print(tokenizer('namesyscallsyscall3289last_n_syscallsnamesyscall(wekj)syscall3289'))"
      ],
      "metadata": {
        "colab": {
          "base_uri": "https://localhost:8080/"
        },
        "id": "-ceD458-fvGE",
        "outputId": "e9d82d98-1658-4dff-ea94-d45b24b300fc"
      },
      "execution_count": 368,
      "outputs": [
        {
          "output_type": "stream",
          "name": "stdout",
          "text": [
            "['syscallname', 'name', 'syscallargs', '<pad>', 'syscallres', '3289', 'syscallend', 'syscallname', 'name', 'syscallargs', '(wekj)', 'syscallres', '3289', 'syscallend']\n"
          ]
        }
      ]
    },
    {
      "cell_type": "code",
      "source": [
        "# dataset['tokens'] = dataset.apply(lambda row: tokenizer(row['last syscalls']), axis=1)"
      ],
      "metadata": {
        "id": "CPoN8jQWkq1j"
      },
      "execution_count": 369,
      "outputs": []
    },
    {
      "cell_type": "markdown",
      "source": [
        "## Преобразование токены в коды"
      ],
      "metadata": {
        "id": "41CtKr8h8CCU"
      }
    },
    {
      "cell_type": "code",
      "source": [
        "from collections import Counter"
      ],
      "metadata": {
        "id": "Gd9WUBdZ7Obo"
      },
      "execution_count": 370,
      "outputs": []
    },
    {
      "cell_type": "code",
      "source": [
        "def token_to_sequence(tokens, token2index):\n",
        "    seq = []\n",
        "    for token in tokens:\n",
        "        index = token2index.get(token, 0) # 0 означает неизвестное слово\n",
        "        # Неизвестные слова не добавляем в выходную последовательность\n",
        "        if index != 1:\n",
        "            seq.append(index)\n",
        "    return seq"
      ],
      "metadata": {
        "id": "tepZ3o1f-v7u"
      },
      "execution_count": 371,
      "outputs": []
    },
    {
      "cell_type": "markdown",
      "source": [
        "## Класс данных системных вызовов для удобного обучения"
      ],
      "metadata": {
        "id": "FAyN6LAVvJs4"
      }
    },
    {
      "cell_type": "code",
      "source": [
        "class SyscallDataset(Dataset):\n",
        "    def __init__(self, dataset, token_size=15000):\n",
        "        self.dataset = dataset\n",
        "        self.token_size = token_size\n",
        "\n",
        "        # Разбиваем системные вызовы на токены\n",
        "        self.last_syscalls_tokens = [tokenizer(self.dataset.iloc[i]['last syscalls']) for i in range(len(self.dataset))]\n",
        "        self.syscall_tokens = [tokenizer(self.dataset.iloc[i]['syscall']) for i in range(len(self.dataset))]\n",
        "\n",
        "\n",
        "        # Вычисляем наиболее встречающиеся токены и индексируем их\n",
        "        tokens_counter = Counter()\n",
        "        for syscalls_token in self.last_syscalls_tokens:\n",
        "            tokens_counter.update(syscalls_token)\n",
        "\n",
        "        most_common_token2index = {\n",
        "            token[0]: i + 2\n",
        "            for i, token in enumerate(tokens_counter.most_common()[: (token_size - 2)])\n",
        "        }\n",
        "\n",
        "        # Словарь, отображающий токены в коды\n",
        "        self.token2index = dict()\n",
        "        # Словарь, отображающий коды в токены\n",
        "        self.index2token = dict()\n",
        "\n",
        "\n",
        "        self.token2index.update(most_common_token2index)\n",
        "        self.token2index[\"<unk>\"] = 0\n",
        "        self.token2index[\"<pad>\"] = 1\n",
        "\n",
        "\n",
        "        self.index2token = {v: k for k, v in self.token2index.items()}\n",
        "\n",
        "        l = min(len(self.index2token), token_size)\n",
        "        self.vocabulary = [self.index2token[i] for i in range(l)]\n",
        "\n",
        "\n",
        "    def __len__(self):\n",
        "        return len(self.dataset)\n",
        "\n",
        "    def __getitem__(self, ix):\n",
        "        X = torch.LongTensor(\n",
        "            token_to_sequence(self.last_syscalls_tokens[ix], self.token2index)\n",
        "        )\n",
        "\n",
        "        y = token_to_sequence(self.syscall_tokens[ix], self.token2index)\n",
        "\n",
        "        return X, y[1]\n"
      ],
      "metadata": {
        "id": "5U2UhfC1vIVi"
      },
      "execution_count": 372,
      "outputs": []
    },
    {
      "cell_type": "markdown",
      "source": [
        "## Класс нейронной сети системных вызовов"
      ],
      "metadata": {
        "id": "RH0-Y3anvU27"
      }
    },
    {
      "cell_type": "code",
      "source": [
        "class SyscallNetwork(Module):\n",
        "    def __init__(\n",
        "        self,\n",
        "        token_size=15000,\n",
        "        embedding_dim=2,\n",
        "        hidden_dim_1=8,\n",
        "        hidden_dim_2=32,\n",
        "        max_norm=2,\n",
        "        n_layers=1,\n",
        "    ):\n",
        "        super().__init__()\n",
        "\n",
        "        self.embedding = Embedding(\n",
        "                token_size,\n",
        "                embedding_dim,\n",
        "                padding_idx=0,\n",
        "                norm_type=2,\n",
        "                max_norm=max_norm,\n",
        "        )\n",
        "        self.lstm = LSTM(\n",
        "                embedding_dim, hidden_dim_1, batch_first=True, num_layers=n_layers\n",
        "        )\n",
        "        self.linear_1 = Linear(hidden_dim_1, hidden_dim_2)\n",
        "        self.linear_2 = Linear(hidden_dim_2, token_size)\n",
        "        self.sm = torch.nn.Softmax(dim=1)\n",
        "\n",
        "\n",
        "    def forward(self, x, h=None, c=None):\n",
        "        emb = self.embedding(x)  # (n_samples, window_size, embedding_dim)\n",
        "        if h is not None and c is not None:\n",
        "            _, (h, c) = self.lstm(emb, (h, c))\n",
        "        else:\n",
        "            _, (h, c) = self.lstm(emb)  # (n_layers, n_samples, hidden_dim)\n",
        "\n",
        "        h_mean = h.mean(dim=0)  # (n_samples, hidden_dim)\n",
        "        x = self.linear_1(h_mean)  # (n_samples, dense_dim)\n",
        "        pred = self.linear_2(x)  # (n_samples, token_size)\n",
        "\n",
        "        return pred, h, c\n",
        "\n",
        "def compute_loss_and_accuracy(loss, net, dataloader):\n",
        "    net.eval()\n",
        "    all_losses = []\n",
        "    all_accuracy = []\n",
        "\n",
        "    for X_batch, y_batch in dataloader:\n",
        "        pred, _, _ = net(X_batch)\n",
        "\n",
        "        all_losses.append(loss(pred, y_batch).item())\n",
        "\n",
        "        print()\n",
        "        print(80*'-')\n",
        "        print('pred ', pred)\n",
        "        print(80*'-')\n",
        "        print(80*'-')\n",
        "        # print('y_batch ', y_batch.argmax(dim=1))\n",
        "        print('y_batch ', y_batch)\n",
        "        print(80*'-')\n",
        "\n",
        "        # all_accuracy.append((pred == y_batch.argmax(dim=1)).float())\n",
        "\n",
        "    return np.mean(all_losses), np.mean(all_accuracy)\n"
      ],
      "metadata": {
        "id": "996ZU16fvUos"
      },
      "execution_count": 373,
      "outputs": []
    },
    {
      "cell_type": "code",
      "source": [
        "syscalldataset = SyscallDataset(dataset)"
      ],
      "metadata": {
        "id": "SUUkUJpPRUPD"
      },
      "execution_count": 382,
      "outputs": []
    },
    {
      "cell_type": "code",
      "source": [
        "syscalldataset.index2token"
      ],
      "metadata": {
        "colab": {
          "base_uri": "https://localhost:8080/"
        },
        "id": "d8zWTMJbRZTY",
        "outputId": "84e7fd00-b57b-4218-f7da-1ad287f77c4f"
      },
      "execution_count": 384,
      "outputs": [
        {
          "output_type": "execute_result",
          "data": {
            "text/plain": [
              "{2: 'syscallname',\n",
              " 3: 'syscallargs',\n",
              " 4: 'syscallres',\n",
              " 5: 'syscallend',\n",
              " 6: '0',\n",
              " 7: 'mmap',\n",
              " 8: 'pread64',\n",
              " 9: 'mprotect',\n",
              " 10: 'newfstatat',\n",
              " 11: 'close',\n",
              " 12: 'openat',\n",
              " 13: '3',\n",
              " 14: '(3)',\n",
              " 15: 'brk',\n",
              " 16: '(3, \"\\\\6\\\\0\\\\0\\\\0\\\\4\\\\0\\\\0\\\\0@\\\\0\\\\0\\\\0\\\\0\\\\0\\\\0\\\\0@\\\\0\\\\0\\\\0\\\\0\\\\0\\\\0\\\\0@\\\\0\\\\0\\\\0\\\\0\\\\0\\\\0\\\\0\"..., 784, 64)',\n",
              " 17: '784',\n",
              " 18: 'arch_prctl',\n",
              " 19: '-1',\n",
              " 20: '(NULL)',\n",
              " 21: '0x55f6bffa6000',\n",
              " 22: 'access',\n",
              " 23: '(\"/etc/ld.so.preload\", R_OK)',\n",
              " 24: '(AT_FDCWD, \"/etc/ld.so.cache\", O_RDONLY|O_CLOEXEC)',\n",
              " 25: '(3, \"\", {st_mode=S_IFREG|0644, st_size=108635, ...}, AT_EMPTY_PATH)',\n",
              " 26: '(NULL, 108635, PROT_READ, MAP_PRIVATE, 3, 0)',\n",
              " 27: '0x7fcbef6e3000',\n",
              " 28: '(AT_FDCWD, \"/lib/x86_64-linux-gnu/libc.so.6\", O_RDONLY|O_CLOEXEC)',\n",
              " 29: 'read',\n",
              " 30: '(3, \"\\\\177ELF\\\\2\\\\1\\\\1\\\\3\\\\0\\\\0\\\\0\\\\0\\\\0\\\\0\\\\0\\\\0\\\\3\\\\0>\\\\0\\\\1\\\\0\\\\0\\\\0P\\\\237\\\\2\\\\0\\\\0\\\\0\\\\0\\\\0\"..., 832)',\n",
              " 31: '832',\n",
              " 32: '(3, \"\\\\4\\\\0\\\\0\\\\0 \\\\0\\\\0\\\\0\\\\5\\\\0\\\\0\\\\0GNU\\\\0\\\\2\\\\0\\\\0\\\\300\\\\4\\\\0\\\\0\\\\0\\\\3\\\\0\\\\0\\\\0\\\\0\\\\0\\\\0\\\\0\"..., 48, 848)',\n",
              " 33: '48',\n",
              " 34: '(3, \"\\\\4\\\\0\\\\0\\\\0\\\\24\\\\0\\\\0\\\\0\\\\3\\\\0\\\\0\\\\0GNU\\\\0\\\\302\\\\211\\\\332Pq\\\\2439\\\\235\\\\350\\\\223\\\\322\\\\257\\\\201\\\\326\\\\243\\\\f\"..., 68, 896)',\n",
              " 35: '68',\n",
              " 36: '(3, \"\", {st_mode=S_IFREG|0755, st_size=2220400, ...}, AT_EMPTY_PATH)',\n",
              " 37: '(NULL, 2264656, PROT_READ, MAP_PRIVATE|MAP_DENYWRITE, 3, 0)',\n",
              " 38: '0x7fcbef4ba000',\n",
              " 39: '(0x7fcbef4e2000, 2023424, PROT_NONE)',\n",
              " 40: '(0x7fcbef4e2000, 1658880, PROT_READ|PROT_EXEC, MAP_PRIVATE|MAP_FIXED|MAP_DENYWRITE, 3, 0x28000)',\n",
              " 41: '0x7fcbef4e2000',\n",
              " 42: '(0x7fcbef677000, 360448, PROT_READ, MAP_PRIVATE|MAP_FIXED|MAP_DENYWRITE, 3, 0x1bd000)',\n",
              " 43: '0x7fcbef677000',\n",
              " 44: '(0x7fcbef6d0000, 24576, PROT_READ|PROT_WRITE, MAP_PRIVATE|MAP_FIXED|MAP_DENYWRITE, 3, 0x215000)',\n",
              " 45: '0x7fcbef6d0000',\n",
              " 46: '(0x7fcbef6d6000, 52816, PROT_READ|PROT_WRITE, MAP_PRIVATE|MAP_FIXED|MAP_ANONYMOUS, -1, 0)',\n",
              " 47: '0x7fcbef6d6000',\n",
              " 48: '(NULL, 12288, PROT_READ|PROT_WRITE, MAP_PRIVATE|MAP_ANONYMOUS, -1, 0)',\n",
              " 49: '0x7fcbef4b7000',\n",
              " 50: '(ARCH_SET_FS, 0x7fcbef4b7740)',\n",
              " 51: 'set_tid_address',\n",
              " 52: '(0x7fcbef4b7a10)',\n",
              " 53: '33345',\n",
              " 54: 'set_robust_list',\n",
              " 55: '(0x7fcbef4b7a20, 24)',\n",
              " 56: 'rseq',\n",
              " 57: '(0x7fcbef4b80e0, 0x20, 0, 0x53053053)',\n",
              " 58: '(0x7fcbef6d0000, 16384, PROT_READ)',\n",
              " 59: '(0x55f6be63c000, 4096, PROT_READ)',\n",
              " 60: '(0x7fcbef738000, 8192, PROT_READ)',\n",
              " 61: 'prlimit64',\n",
              " 62: '(0, RLIMIT_STACK, NULL, {rlim_cur=8192*1024, rlim_max=RLIM64_INFINITY})',\n",
              " 63: 'munmap',\n",
              " 64: '(0x7fcbef6e3000, 108635)',\n",
              " 65: 'getrandom',\n",
              " 66: '(\"\\\\x9c\\\\xe9\\\\x9b\\\\x75\\\\x66\\\\x2b\\\\xe8\\\\x5c\", 8, GRND_NONBLOCK)',\n",
              " 67: '8',\n",
              " 68: '(0x55f6bffc7000)',\n",
              " 69: '0x55f6bffc7000',\n",
              " 70: '(AT_FDCWD, \"/usr/lib/locale/locale-archive\", O_RDONLY|O_CLOEXEC)',\n",
              " 71: '(3, \"\", {st_mode=S_IFREG|0644, st_size=5721376, ...}, AT_EMPTY_PATH)',\n",
              " 72: '(NULL, 5721376, PROT_READ, MAP_PRIVATE, 3, 0)',\n",
              " 73: '0x7fcbeef42000',\n",
              " 74: 'uname',\n",
              " 75: '({sysname=\"Linux\", nodename=\"master-Lenovo-ThinkBook-15-IIL\", ...})',\n",
              " 76: '(NULL, 8192, PROT_READ|PROT_WRITE, MAP_PRIVATE|MAP_ANONYMOUS, -1, 0)',\n",
              " 77: '0x7fcbef6fe000',\n",
              " 78: '(1, \"\", {st_mode=S_IFCHR|0620, st_rdev=makedev(0x88, 0x2), ...}, AT_EMPTY_PATH)',\n",
              " 79: '(0x3001 /* ARCH_??? */, 0x7ffcb7ec8c00)',\n",
              " 80: 'write',\n",
              " 81: '(1, \"Linux\\\\n\", 6)',\n",
              " 82: '6',\n",
              " 83: '(1)',\n",
              " 84: 'execve',\n",
              " 85: '(\"/usr/bin/uname\", [\"uname\"], 0x7ffd60536e10 /* 18 vars */)',\n",
              " 86: '(2)',\n",
              " 0: '<unk>',\n",
              " 1: '<pad>'}"
            ]
          },
          "metadata": {},
          "execution_count": 384
        }
      ]
    },
    {
      "cell_type": "markdown",
      "source": [
        "#### Задание гиперпараметров"
      ],
      "metadata": {
        "id": "j3AzrizFvl2n"
      }
    },
    {
      "cell_type": "code",
      "source": [
        "token_size = 15000 # максимальное количество токенов\n",
        "embedding_dim = 2\n",
        "hidden_dim_1 = 32\n",
        "hidden_dim_2 = 64\n",
        "n_layers = 1 # кол-во повторяющихся слоев в LSTM\n",
        "max_norm = 2\n",
        "\n",
        "n_epochs = 100\n",
        "train_val_split = 0.8\n",
        "batch_size = 128"
      ],
      "metadata": {
        "id": "kLAOIdHJ48u2"
      },
      "execution_count": 374,
      "outputs": []
    },
    {
      "cell_type": "markdown",
      "source": [
        "#### Функция потерь"
      ],
      "metadata": {
        "id": "2VXHYLlE5dpG"
      }
    },
    {
      "cell_type": "code",
      "source": [
        "loss_f = torch.nn.CrossEntropyLoss()"
      ],
      "metadata": {
        "id": "NvYGQC8T5kzc"
      },
      "execution_count": 375,
      "outputs": []
    },
    {
      "cell_type": "markdown",
      "source": [
        "## Создание тренировочного и валидационного датасета"
      ],
      "metadata": {
        "id": "Z6hl6eoj6iw0"
      }
    },
    {
      "cell_type": "code",
      "source": [
        "syscalldataset = SyscallDataset(dataset, token_size)\n",
        "\n",
        "\n",
        "n_samples = len(dataset)\n",
        "split_ix = int(n_samples * train_val_split)\n",
        "\n",
        "train_indices, val_indices = np.arange(split_ix), np.arange(split_ix, n_samples)\n",
        "\n",
        "train_dataloader = DataLoader(\n",
        "        syscalldataset, sampler=SubsetRandomSampler(train_indices),\n",
        "        batch_size=batch_size\n",
        ")\n",
        "val_dataloader = DataLoader(\n",
        "        syscalldataset, sampler=SubsetRandomSampler(val_indices),\n",
        "        batch_size=batch_size\n",
        ")"
      ],
      "metadata": {
        "id": "sxhUs7gd6hkx"
      },
      "execution_count": 376,
      "outputs": []
    },
    {
      "cell_type": "code",
      "source": [
        "syscalldataset[0]"
      ],
      "metadata": {
        "colab": {
          "base_uri": "https://localhost:8080/"
        },
        "id": "Zt4qP1N-Lp1Q",
        "outputId": "c89848eb-e95b-4805-a129-0b49610bf149"
      },
      "execution_count": 377,
      "outputs": [
        {
          "output_type": "execute_result",
          "data": {
            "text/plain": [
              "(tensor([ 2, 84,  3, 85,  4,  6,  5,  2, 15,  3, 20,  4, 21,  5,  2, 18,  3, 79,\n",
              "          4, 19,  5,  2,  7,  3, 76,  4, 77,  5,  2, 22,  3, 23,  4, 19,  5]),\n",
              " 12)"
            ]
          },
          "metadata": {},
          "execution_count": 377
        }
      ]
    },
    {
      "cell_type": "code",
      "source": [
        "train_dataloader.dataset"
      ],
      "metadata": {
        "colab": {
          "base_uri": "https://localhost:8080/"
        },
        "id": "6TZM1Uny7Sdv",
        "outputId": "862dde48-5876-4e8a-e82e-39c57161214b"
      },
      "execution_count": 378,
      "outputs": [
        {
          "output_type": "execute_result",
          "data": {
            "text/plain": [
              "<__main__.SyscallDataset at 0x7e29d012ecb0>"
            ]
          },
          "metadata": {},
          "execution_count": 378
        }
      ]
    },
    {
      "cell_type": "markdown",
      "source": [
        "## Создание нейронной сети и оптимайзера\n"
      ],
      "metadata": {
        "id": "K9r6tX1YDJPf"
      }
    },
    {
      "cell_type": "code",
      "source": [
        "net = SyscallNetwork(\n",
        "        token_size,\n",
        "        hidden_dim_1=hidden_dim_1,\n",
        "        n_layers=n_layers,\n",
        "        hidden_dim_2=hidden_dim_2,\n",
        "        embedding_dim=embedding_dim,\n",
        "        max_norm=max_norm,\n",
        ")\n",
        "\n",
        "optimizer = torch.optim.Adam(\n",
        "        net.parameters(),\n",
        "        lr=1e-2,\n",
        ")\n"
      ],
      "metadata": {
        "id": "wyRC1sJ7DIsL"
      },
      "execution_count": 379,
      "outputs": []
    },
    {
      "cell_type": "markdown",
      "source": [
        "## Обучение нейронной сети"
      ],
      "metadata": {
        "id": "8-Fh9VlbE_GG"
      }
    },
    {
      "cell_type": "code",
      "source": [
        "c = 0\n",
        "\n",
        "for i in range(len(train_dataloader.dataset)):\n",
        "    if len(train_dataloader.dataset[i][0]) != 35:\n",
        "        c += 1\n",
        "        # print(80*'-')\n",
        "        # print(len(train_dataloader.dataset[i][0]))\n",
        "        # print(train_dataloader.dataset[i][0].numpy())\n",
        "        # for token in train_dataloader.dataset[i][0].numpy():\n",
        "        #     print(syscalldataset.index2token[token], end=' ; ')\n",
        "        # print(80*'-')\n",
        "print(c)"
      ],
      "metadata": {
        "colab": {
          "base_uri": "https://localhost:8080/"
        },
        "id": "dOlpSrIgVAbk",
        "outputId": "3f3eff00-0e78-4960-eea0-705ab659c80e"
      },
      "execution_count": 380,
      "outputs": [
        {
          "output_type": "stream",
          "name": "stdout",
          "text": [
            "0\n"
          ]
        }
      ]
    },
    {
      "cell_type": "code",
      "source": [
        "emb_history = []\n",
        "\n",
        "for epoch in range(n_epochs):\n",
        "    net.train()\n",
        "    for X_batch, y_batch in tqdm(train_dataloader):\n",
        "        optimizer.zero_grad()\n",
        "        pred, _, _ = net(X_batch)\n",
        "        loss = loss_f(pred, y_batch)\n",
        "        loss.backward()\n",
        "\n",
        "        optimizer.step()\n",
        "\n",
        "\n",
        "    if epoch % 10 == 0:\n",
        "        train_loss, _ = compute_loss_and_accuracy(loss_f, net, train_dataloader)\n",
        "        val_loss, val_acc = compute_loss_and_accuracy(loss_f, net, val_dataloader)\n",
        "        print(f\"Epoch: {epoch}, train loss: {train_loss=:.3f}, validation loss {val_loss=:.3f}\")\n",
        "        print(f'Accuracy: {val_acc}')\n",
        "\n",
        "\n",
        "    # Prepare DataFrame\n",
        "    weights = net.embedding.weight.detach().clone().numpy()\n",
        "\n",
        "    df = pd.DataFrame(weights, columns=[f\"dim_{i}\" for i in range(embedding_dim)])\n",
        "    df[\"epoch\"] = epoch\n",
        "    df[\"token\"] = dataset.vocabulary\n",
        "\n",
        "    emb_history.append(df)\n",
        "\n",
        "final_df = pd.concat(emb_history)\n",
        "final_df.to_csv(\"res.csv\", index=False)"
      ],
      "metadata": {
        "id": "G5mEDlDFvj_0",
        "colab": {
          "base_uri": "https://localhost:8080/",
          "height": 1000
        },
        "outputId": "4fdb1a3d-61e0-4f85-a6aa-e7a27a0ac44b"
      },
      "execution_count": 381,
      "outputs": [
        {
          "output_type": "stream",
          "name": "stderr",
          "text": [
            "100%|██████████| 1/1 [00:00<00:00, 23.37it/s]"
          ]
        },
        {
          "output_type": "stream",
          "name": "stdout",
          "text": [
            "\n",
            "--------------------------------------------------------------------------------\n",
            "pred  tensor([[-0.0258, -0.2608,  0.0710,  ..., -0.0751, -0.1458, -0.0057],\n",
            "        [-0.0243, -0.2371,  0.0746,  ..., -0.0837, -0.1391,  0.0100],\n",
            "        [-0.0156, -0.2340,  0.0711,  ..., -0.0769, -0.1387,  0.0066],\n",
            "        ...,\n",
            "        [-0.0207, -0.2282,  0.0749,  ..., -0.0837, -0.1394,  0.0144],\n",
            "        [-0.0184, -0.2310,  0.0732,  ..., -0.0792, -0.1421,  0.0110],\n",
            "        [-0.0184, -0.2222,  0.0743,  ..., -0.0834, -0.1391,  0.0174]],\n",
            "       grad_fn=<AddmmBackward0>)\n",
            "--------------------------------------------------------------------------------\n",
            "--------------------------------------------------------------------------------\n",
            "y_batch  tensor([ 7,  9,  7, 18, 10, 51, 56, 11,  9, 10, 12, 65,  8,  8,  7, 12, 29,  8,\n",
            "        11, 15, 54, 15,  8,  7, 63, 61,  7,  9,  9,  7,  7, 12])\n",
            "--------------------------------------------------------------------------------\n",
            "\n",
            "--------------------------------------------------------------------------------\n",
            "pred  tensor([[-0.0244, -0.2318,  0.0761,  ..., -0.0853, -0.1391,  0.0138],\n",
            "        [-0.0132, -0.2192,  0.0721,  ..., -0.0779, -0.1393,  0.0157],\n",
            "        [-0.0178, -0.2214,  0.0742,  ..., -0.0833, -0.1393,  0.0176],\n",
            "        ...,\n",
            "        [-0.0177, -0.2294,  0.0734,  ..., -0.0814, -0.1397,  0.0117],\n",
            "        [-0.0163, -0.2319,  0.0721,  ..., -0.0800, -0.1397,  0.0093],\n",
            "        [-0.0095, -0.2347,  0.0698,  ..., -0.0704, -0.1408,  0.0021]],\n",
            "       grad_fn=<AddmmBackward0>)\n",
            "--------------------------------------------------------------------------------\n",
            "--------------------------------------------------------------------------------\n",
            "y_batch  tensor([ 0, 10, 74, 10, 80, 11, 11,  7, 11])\n",
            "--------------------------------------------------------------------------------\n",
            "Epoch: 0, train loss: train_loss=9.451, validation loss val_loss=9.442\n",
            "Accuracy: nan\n"
          ]
        },
        {
          "output_type": "stream",
          "name": "stderr",
          "text": [
            "\n",
            "/usr/local/lib/python3.10/dist-packages/numpy/core/fromnumeric.py:3504: RuntimeWarning: Mean of empty slice.\n",
            "  return _methods._mean(a, axis=axis, dtype=dtype,\n",
            "/usr/local/lib/python3.10/dist-packages/numpy/core/_methods.py:129: RuntimeWarning: invalid value encountered in scalar divide\n",
            "  ret = ret.dtype.type(ret / rcount)\n"
          ]
        },
        {
          "output_type": "error",
          "ename": "AttributeError",
          "evalue": "'DataFrame' object has no attribute 'vocabulary'",
          "traceback": [
            "\u001b[0;31m---------------------------------------------------------------------------\u001b[0m",
            "\u001b[0;31mAttributeError\u001b[0m                            Traceback (most recent call last)",
            "\u001b[0;32m<ipython-input-381-28950de81a52>\u001b[0m in \u001b[0;36m<cell line: 3>\u001b[0;34m()\u001b[0m\n\u001b[1;32m     24\u001b[0m     \u001b[0mdf\u001b[0m \u001b[0;34m=\u001b[0m \u001b[0mpd\u001b[0m\u001b[0;34m.\u001b[0m\u001b[0mDataFrame\u001b[0m\u001b[0;34m(\u001b[0m\u001b[0mweights\u001b[0m\u001b[0;34m,\u001b[0m \u001b[0mcolumns\u001b[0m\u001b[0;34m=\u001b[0m\u001b[0;34m[\u001b[0m\u001b[0;34mf\"dim_{i}\"\u001b[0m \u001b[0;32mfor\u001b[0m \u001b[0mi\u001b[0m \u001b[0;32min\u001b[0m \u001b[0mrange\u001b[0m\u001b[0;34m(\u001b[0m\u001b[0membedding_dim\u001b[0m\u001b[0;34m)\u001b[0m\u001b[0;34m]\u001b[0m\u001b[0;34m)\u001b[0m\u001b[0;34m\u001b[0m\u001b[0;34m\u001b[0m\u001b[0m\n\u001b[1;32m     25\u001b[0m     \u001b[0mdf\u001b[0m\u001b[0;34m[\u001b[0m\u001b[0;34m\"epoch\"\u001b[0m\u001b[0;34m]\u001b[0m \u001b[0;34m=\u001b[0m \u001b[0mepoch\u001b[0m\u001b[0;34m\u001b[0m\u001b[0;34m\u001b[0m\u001b[0m\n\u001b[0;32m---> 26\u001b[0;31m     \u001b[0mdf\u001b[0m\u001b[0;34m[\u001b[0m\u001b[0;34m\"token\"\u001b[0m\u001b[0;34m]\u001b[0m \u001b[0;34m=\u001b[0m \u001b[0mdataset\u001b[0m\u001b[0;34m.\u001b[0m\u001b[0mvocabulary\u001b[0m\u001b[0;34m\u001b[0m\u001b[0;34m\u001b[0m\u001b[0m\n\u001b[0m\u001b[1;32m     27\u001b[0m \u001b[0;34m\u001b[0m\u001b[0m\n\u001b[1;32m     28\u001b[0m     \u001b[0memb_history\u001b[0m\u001b[0;34m.\u001b[0m\u001b[0mappend\u001b[0m\u001b[0;34m(\u001b[0m\u001b[0mdf\u001b[0m\u001b[0;34m)\u001b[0m\u001b[0;34m\u001b[0m\u001b[0;34m\u001b[0m\u001b[0m\n",
            "\u001b[0;32m/usr/local/lib/python3.10/dist-packages/pandas/core/generic.py\u001b[0m in \u001b[0;36m__getattr__\u001b[0;34m(self, name)\u001b[0m\n\u001b[1;32m   5900\u001b[0m         ):\n\u001b[1;32m   5901\u001b[0m             \u001b[0;32mreturn\u001b[0m \u001b[0mself\u001b[0m\u001b[0;34m[\u001b[0m\u001b[0mname\u001b[0m\u001b[0;34m]\u001b[0m\u001b[0;34m\u001b[0m\u001b[0;34m\u001b[0m\u001b[0m\n\u001b[0;32m-> 5902\u001b[0;31m         \u001b[0;32mreturn\u001b[0m \u001b[0mobject\u001b[0m\u001b[0;34m.\u001b[0m\u001b[0m__getattribute__\u001b[0m\u001b[0;34m(\u001b[0m\u001b[0mself\u001b[0m\u001b[0;34m,\u001b[0m \u001b[0mname\u001b[0m\u001b[0;34m)\u001b[0m\u001b[0;34m\u001b[0m\u001b[0;34m\u001b[0m\u001b[0m\n\u001b[0m\u001b[1;32m   5903\u001b[0m \u001b[0;34m\u001b[0m\u001b[0m\n\u001b[1;32m   5904\u001b[0m     \u001b[0;32mdef\u001b[0m \u001b[0m__setattr__\u001b[0m\u001b[0;34m(\u001b[0m\u001b[0mself\u001b[0m\u001b[0;34m,\u001b[0m \u001b[0mname\u001b[0m\u001b[0;34m:\u001b[0m \u001b[0mstr\u001b[0m\u001b[0;34m,\u001b[0m \u001b[0mvalue\u001b[0m\u001b[0;34m)\u001b[0m \u001b[0;34m->\u001b[0m \u001b[0;32mNone\u001b[0m\u001b[0;34m:\u001b[0m\u001b[0;34m\u001b[0m\u001b[0;34m\u001b[0m\u001b[0m\n",
            "\u001b[0;31mAttributeError\u001b[0m: 'DataFrame' object has no attribute 'vocabulary'"
          ]
        }
      ]
    },
    {
      "cell_type": "markdown",
      "source": [
        "### Сохранение обученной модели"
      ],
      "metadata": {
        "id": "eHIIMmJHKFqa"
      }
    },
    {
      "cell_type": "code",
      "source": [
        "net.save('syscall-prediction.en-2')"
      ],
      "metadata": {
        "id": "9kcvqrT6KJ_V"
      },
      "execution_count": null,
      "outputs": []
    },
    {
      "cell_type": "markdown",
      "source": [
        "### Загрузка сохраненной модели"
      ],
      "metadata": {
        "id": "wDMKnwY6K6uD"
      }
    },
    {
      "cell_type": "code",
      "source": [
        "from google.colab import drive\n",
        "drive.mount('/content/drive')\n",
        "\n",
        "%cd /content/drive/My Drive/Colab Notebooks/Diplom2024/Code/dataset"
      ],
      "metadata": {
        "id": "G9uDlVhRMjtF"
      },
      "execution_count": null,
      "outputs": []
    },
    {
      "cell_type": "code",
      "source": [
        "import torch\n",
        "\n",
        "new_model = torch.load('syscall-prediction.en-2')"
      ],
      "metadata": {
        "id": "9x_3-Ze_LvP-"
      },
      "execution_count": null,
      "outputs": []
    },
    {
      "cell_type": "markdown",
      "source": [
        "### График embeddings"
      ],
      "metadata": {
        "id": "T6HQUE4uIFOv"
      }
    },
    {
      "cell_type": "code",
      "source": [
        "import plotly\n",
        "import plotly.graph_objects as go\n",
        "import plotly.express as px"
      ],
      "metadata": {
        "id": "WrNpyhUZISe2"
      },
      "execution_count": null,
      "outputs": []
    },
    {
      "cell_type": "code",
      "source": [
        "df = pd.read_csv(\"res.csv\")"
      ],
      "metadata": {
        "id": "o7OjHzn9NZL6"
      },
      "execution_count": null,
      "outputs": []
    },
    {
      "cell_type": "code",
      "source": [
        "px.scatter(\n",
        "    df,\n",
        "    x='dim_0', y='dim_1',\n",
        "    text = 'token'\n",
        "    animation_frame='epoch',\n",
        "    animation_group='token'\n",
        "    # size='pop',\n",
        "    # color='continent',\n",
        "    # hover_name='',\n",
        "    # log_x=True,\n",
        "    # size_max=55,\n",
        "    # range_x=[100, 100000], range_y=[25, 90]\n",
        ")"
      ],
      "metadata": {
        "id": "GS2DM6keIEgv"
      },
      "execution_count": null,
      "outputs": []
    }
  ]
}