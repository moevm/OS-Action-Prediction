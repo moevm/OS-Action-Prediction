{
  "cells": [
    {
      "cell_type": "markdown",
      "metadata": {
        "id": "a9l9w1E0UkIh"
      },
      "source": [
        "## Загрузка датасета"
      ]
    },
    {
      "cell_type": "code",
      "execution_count": 1,
      "metadata": {
        "colab": {
          "base_uri": "https://localhost:8080/"
        },
        "id": "qTi7xtVXUhEC",
        "outputId": "91f1786b-ab4d-44d7-e3a6-fba9ceecced4"
      },
      "outputs": [
        {
          "output_type": "stream",
          "name": "stdout",
          "text": [
            "Drive already mounted at /content/drive; to attempt to forcibly remount, call drive.mount(\"/content/drive\", force_remount=True).\n"
          ]
        }
      ],
      "source": [
        "from google.colab import drive\n",
        "drive.mount('/content/drive')"
      ]
    },
    {
      "cell_type": "code",
      "execution_count": 2,
      "metadata": {
        "colab": {
          "base_uri": "https://localhost:8080/"
        },
        "id": "RDolrPIIUq8O",
        "outputId": "2e679027-5053-4988-dfac-826f477acc46"
      },
      "outputs": [
        {
          "output_type": "stream",
          "name": "stdout",
          "text": [
            "/content/drive/MyDrive/OS-Action-Prediction/src/model/dataset\n"
          ]
        }
      ],
      "source": [
        "%cd ./drive/MyDrive/OS-Action-Prediction/src/model/dataset"
      ]
    },
    {
      "cell_type": "code",
      "source": [
        "!unzip ./syscalls_dataset.zip"
      ],
      "metadata": {
        "id": "7CNOSmNEegnW",
        "colab": {
          "base_uri": "https://localhost:8080/"
        },
        "outputId": "11dae00d-6ff7-45ce-b683-5bd72769e57d"
      },
      "execution_count": 3,
      "outputs": [
        {
          "output_type": "stream",
          "name": "stdout",
          "text": [
            "Archive:  ./syscalls_dataset.zip\n",
            "  inflating: syscalls_dataset.csv    \n"
          ]
        }
      ]
    },
    {
      "cell_type": "code",
      "execution_count": 4,
      "metadata": {
        "id": "ZA9PVeBLX2UA"
      },
      "outputs": [],
      "source": [
        "import os\n",
        "import torch\n",
        "from torch import nn\n",
        "from torch.utils.data import DataLoader\n",
        "from torchvision import datasets, transforms\n",
        "import pandas as pd\n"
      ]
    },
    {
      "cell_type": "code",
      "execution_count": 5,
      "metadata": {
        "id": "SNpJb7g9Yw3d"
      },
      "outputs": [],
      "source": [
        "dataset = pd.read_csv(\"syscalls_dataset.csv\")"
      ]
    },
    {
      "cell_type": "code",
      "execution_count": 6,
      "metadata": {
        "id": "_INW1C2-ZSpH",
        "colab": {
          "base_uri": "https://localhost:8080/",
          "height": 424
        },
        "outputId": "17572038-1b6f-4bee-90c4-3aeacc33138d"
      },
      "outputs": [
        {
          "output_type": "execute_result",
          "data": {
            "text/plain": [
              "                                            last syscalls  \\\n",
              "0       kwin_x11syscallreadsyscall(5, \"\\1\\0\\0\\0\\0\\0\\0\\...   \n",
              "1       _opt_google_chrome_chromesyscallepoll_waitsysc...   \n",
              "2       _usr_lib_xorg_Xorgsyscallwritevsyscall(103, [{...   \n",
              "3       _usr_lib_xorg_Xorgsyscallioctlsyscall(18, DRM_...   \n",
              "4       _opt_google_chrome_chromesyscallepoll_waitsysc...   \n",
              "...                                                   ...   \n",
              "366027  chromesyscallepoll_waitsyscall(29, [{events=EP...   \n",
              "366028  at-spi2-registrsyscallrecvmsgsyscall(5, {msg_n...   \n",
              "366029  Xorgsyscallrecvmsgsyscall(53, {msg_name=NULL, ...   \n",
              "366030  Xorgsyscallrecvmsgsyscall(86, {msg_namelen=0},...   \n",
              "366031  _usr_lib_xorg_Xorgsyscallrt_sigreturnsyscall({...   \n",
              "\n",
              "                                                  syscall  \n",
              "0       kwin_x11syscallwritevsyscall(3, [{iov_base=\"\\2...  \n",
              "1       _opt_google_chrome_chromesyscallsendtosyscall(...  \n",
              "2       _usr_lib_xorg_Xorgsyscallwritevsyscall(103, [{...  \n",
              "3       _usr_lib_xorg_Xorgsyscallreadsyscall(18, \"\\2\\0...  \n",
              "4       _opt_google_chrome_chromesyscallepoll_waitsysc...  \n",
              "...                                                   ...  \n",
              "366027  chromesyscallsendtosyscall(106, \"\\10\\0\\0\\0h\\0\\...  \n",
              "366028  at-spi2-registrsyscallrecvmsgsyscall(5, {msg_n...  \n",
              "366029  Xorgsyscallioctlsyscall(20, DRM_IOCTL_I915_GEM...  \n",
              "366030  Xorgsyscallwritevsyscall(86, [{iov_base=\"\\1\\0v...  \n",
              "366031  _usr_lib_xorg_Xorgsyscallreadsyscall(18, \"\\3\\0...  \n",
              "\n",
              "[366032 rows x 2 columns]"
            ],
            "text/html": [
              "\n",
              "  <div id=\"df-ffc75451-3f9c-4568-baaa-7ec8de49c719\" class=\"colab-df-container\">\n",
              "    <div>\n",
              "<style scoped>\n",
              "    .dataframe tbody tr th:only-of-type {\n",
              "        vertical-align: middle;\n",
              "    }\n",
              "\n",
              "    .dataframe tbody tr th {\n",
              "        vertical-align: top;\n",
              "    }\n",
              "\n",
              "    .dataframe thead th {\n",
              "        text-align: right;\n",
              "    }\n",
              "</style>\n",
              "<table border=\"1\" class=\"dataframe\">\n",
              "  <thead>\n",
              "    <tr style=\"text-align: right;\">\n",
              "      <th></th>\n",
              "      <th>last syscalls</th>\n",
              "      <th>syscall</th>\n",
              "    </tr>\n",
              "  </thead>\n",
              "  <tbody>\n",
              "    <tr>\n",
              "      <th>0</th>\n",
              "      <td>kwin_x11syscallreadsyscall(5, \"\\1\\0\\0\\0\\0\\0\\0\\...</td>\n",
              "      <td>kwin_x11syscallwritevsyscall(3, [{iov_base=\"\\2...</td>\n",
              "    </tr>\n",
              "    <tr>\n",
              "      <th>1</th>\n",
              "      <td>_opt_google_chrome_chromesyscallepoll_waitsysc...</td>\n",
              "      <td>_opt_google_chrome_chromesyscallsendtosyscall(...</td>\n",
              "    </tr>\n",
              "    <tr>\n",
              "      <th>2</th>\n",
              "      <td>_usr_lib_xorg_Xorgsyscallwritevsyscall(103, [{...</td>\n",
              "      <td>_usr_lib_xorg_Xorgsyscallwritevsyscall(103, [{...</td>\n",
              "    </tr>\n",
              "    <tr>\n",
              "      <th>3</th>\n",
              "      <td>_usr_lib_xorg_Xorgsyscallioctlsyscall(18, DRM_...</td>\n",
              "      <td>_usr_lib_xorg_Xorgsyscallreadsyscall(18, \"\\2\\0...</td>\n",
              "    </tr>\n",
              "    <tr>\n",
              "      <th>4</th>\n",
              "      <td>_opt_google_chrome_chromesyscallepoll_waitsysc...</td>\n",
              "      <td>_opt_google_chrome_chromesyscallepoll_waitsysc...</td>\n",
              "    </tr>\n",
              "    <tr>\n",
              "      <th>...</th>\n",
              "      <td>...</td>\n",
              "      <td>...</td>\n",
              "    </tr>\n",
              "    <tr>\n",
              "      <th>366027</th>\n",
              "      <td>chromesyscallepoll_waitsyscall(29, [{events=EP...</td>\n",
              "      <td>chromesyscallsendtosyscall(106, \"\\10\\0\\0\\0h\\0\\...</td>\n",
              "    </tr>\n",
              "    <tr>\n",
              "      <th>366028</th>\n",
              "      <td>at-spi2-registrsyscallrecvmsgsyscall(5, {msg_n...</td>\n",
              "      <td>at-spi2-registrsyscallrecvmsgsyscall(5, {msg_n...</td>\n",
              "    </tr>\n",
              "    <tr>\n",
              "      <th>366029</th>\n",
              "      <td>Xorgsyscallrecvmsgsyscall(53, {msg_name=NULL, ...</td>\n",
              "      <td>Xorgsyscallioctlsyscall(20, DRM_IOCTL_I915_GEM...</td>\n",
              "    </tr>\n",
              "    <tr>\n",
              "      <th>366030</th>\n",
              "      <td>Xorgsyscallrecvmsgsyscall(86, {msg_namelen=0},...</td>\n",
              "      <td>Xorgsyscallwritevsyscall(86, [{iov_base=\"\\1\\0v...</td>\n",
              "    </tr>\n",
              "    <tr>\n",
              "      <th>366031</th>\n",
              "      <td>_usr_lib_xorg_Xorgsyscallrt_sigreturnsyscall({...</td>\n",
              "      <td>_usr_lib_xorg_Xorgsyscallreadsyscall(18, \"\\3\\0...</td>\n",
              "    </tr>\n",
              "  </tbody>\n",
              "</table>\n",
              "<p>366032 rows × 2 columns</p>\n",
              "</div>\n",
              "    <div class=\"colab-df-buttons\">\n",
              "\n",
              "  <div class=\"colab-df-container\">\n",
              "    <button class=\"colab-df-convert\" onclick=\"convertToInteractive('df-ffc75451-3f9c-4568-baaa-7ec8de49c719')\"\n",
              "            title=\"Convert this dataframe to an interactive table.\"\n",
              "            style=\"display:none;\">\n",
              "\n",
              "  <svg xmlns=\"http://www.w3.org/2000/svg\" height=\"24px\" viewBox=\"0 -960 960 960\">\n",
              "    <path d=\"M120-120v-720h720v720H120Zm60-500h600v-160H180v160Zm220 220h160v-160H400v160Zm0 220h160v-160H400v160ZM180-400h160v-160H180v160Zm440 0h160v-160H620v160ZM180-180h160v-160H180v160Zm440 0h160v-160H620v160Z\"/>\n",
              "  </svg>\n",
              "    </button>\n",
              "\n",
              "  <style>\n",
              "    .colab-df-container {\n",
              "      display:flex;\n",
              "      gap: 12px;\n",
              "    }\n",
              "\n",
              "    .colab-df-convert {\n",
              "      background-color: #E8F0FE;\n",
              "      border: none;\n",
              "      border-radius: 50%;\n",
              "      cursor: pointer;\n",
              "      display: none;\n",
              "      fill: #1967D2;\n",
              "      height: 32px;\n",
              "      padding: 0 0 0 0;\n",
              "      width: 32px;\n",
              "    }\n",
              "\n",
              "    .colab-df-convert:hover {\n",
              "      background-color: #E2EBFA;\n",
              "      box-shadow: 0px 1px 2px rgba(60, 64, 67, 0.3), 0px 1px 3px 1px rgba(60, 64, 67, 0.15);\n",
              "      fill: #174EA6;\n",
              "    }\n",
              "\n",
              "    .colab-df-buttons div {\n",
              "      margin-bottom: 4px;\n",
              "    }\n",
              "\n",
              "    [theme=dark] .colab-df-convert {\n",
              "      background-color: #3B4455;\n",
              "      fill: #D2E3FC;\n",
              "    }\n",
              "\n",
              "    [theme=dark] .colab-df-convert:hover {\n",
              "      background-color: #434B5C;\n",
              "      box-shadow: 0px 1px 3px 1px rgba(0, 0, 0, 0.15);\n",
              "      filter: drop-shadow(0px 1px 2px rgba(0, 0, 0, 0.3));\n",
              "      fill: #FFFFFF;\n",
              "    }\n",
              "  </style>\n",
              "\n",
              "    <script>\n",
              "      const buttonEl =\n",
              "        document.querySelector('#df-ffc75451-3f9c-4568-baaa-7ec8de49c719 button.colab-df-convert');\n",
              "      buttonEl.style.display =\n",
              "        google.colab.kernel.accessAllowed ? 'block' : 'none';\n",
              "\n",
              "      async function convertToInteractive(key) {\n",
              "        const element = document.querySelector('#df-ffc75451-3f9c-4568-baaa-7ec8de49c719');\n",
              "        const dataTable =\n",
              "          await google.colab.kernel.invokeFunction('convertToInteractive',\n",
              "                                                    [key], {});\n",
              "        if (!dataTable) return;\n",
              "\n",
              "        const docLinkHtml = 'Like what you see? Visit the ' +\n",
              "          '<a target=\"_blank\" href=https://colab.research.google.com/notebooks/data_table.ipynb>data table notebook</a>'\n",
              "          + ' to learn more about interactive tables.';\n",
              "        element.innerHTML = '';\n",
              "        dataTable['output_type'] = 'display_data';\n",
              "        await google.colab.output.renderOutput(dataTable, element);\n",
              "        const docLink = document.createElement('div');\n",
              "        docLink.innerHTML = docLinkHtml;\n",
              "        element.appendChild(docLink);\n",
              "      }\n",
              "    </script>\n",
              "  </div>\n",
              "\n",
              "\n",
              "<div id=\"df-3b505277-eea9-4d7a-8a55-1fab00e47cec\">\n",
              "  <button class=\"colab-df-quickchart\" onclick=\"quickchart('df-3b505277-eea9-4d7a-8a55-1fab00e47cec')\"\n",
              "            title=\"Suggest charts\"\n",
              "            style=\"display:none;\">\n",
              "\n",
              "<svg xmlns=\"http://www.w3.org/2000/svg\" height=\"24px\"viewBox=\"0 0 24 24\"\n",
              "     width=\"24px\">\n",
              "    <g>\n",
              "        <path d=\"M19 3H5c-1.1 0-2 .9-2 2v14c0 1.1.9 2 2 2h14c1.1 0 2-.9 2-2V5c0-1.1-.9-2-2-2zM9 17H7v-7h2v7zm4 0h-2V7h2v10zm4 0h-2v-4h2v4z\"/>\n",
              "    </g>\n",
              "</svg>\n",
              "  </button>\n",
              "\n",
              "<style>\n",
              "  .colab-df-quickchart {\n",
              "      --bg-color: #E8F0FE;\n",
              "      --fill-color: #1967D2;\n",
              "      --hover-bg-color: #E2EBFA;\n",
              "      --hover-fill-color: #174EA6;\n",
              "      --disabled-fill-color: #AAA;\n",
              "      --disabled-bg-color: #DDD;\n",
              "  }\n",
              "\n",
              "  [theme=dark] .colab-df-quickchart {\n",
              "      --bg-color: #3B4455;\n",
              "      --fill-color: #D2E3FC;\n",
              "      --hover-bg-color: #434B5C;\n",
              "      --hover-fill-color: #FFFFFF;\n",
              "      --disabled-bg-color: #3B4455;\n",
              "      --disabled-fill-color: #666;\n",
              "  }\n",
              "\n",
              "  .colab-df-quickchart {\n",
              "    background-color: var(--bg-color);\n",
              "    border: none;\n",
              "    border-radius: 50%;\n",
              "    cursor: pointer;\n",
              "    display: none;\n",
              "    fill: var(--fill-color);\n",
              "    height: 32px;\n",
              "    padding: 0;\n",
              "    width: 32px;\n",
              "  }\n",
              "\n",
              "  .colab-df-quickchart:hover {\n",
              "    background-color: var(--hover-bg-color);\n",
              "    box-shadow: 0 1px 2px rgba(60, 64, 67, 0.3), 0 1px 3px 1px rgba(60, 64, 67, 0.15);\n",
              "    fill: var(--button-hover-fill-color);\n",
              "  }\n",
              "\n",
              "  .colab-df-quickchart-complete:disabled,\n",
              "  .colab-df-quickchart-complete:disabled:hover {\n",
              "    background-color: var(--disabled-bg-color);\n",
              "    fill: var(--disabled-fill-color);\n",
              "    box-shadow: none;\n",
              "  }\n",
              "\n",
              "  .colab-df-spinner {\n",
              "    border: 2px solid var(--fill-color);\n",
              "    border-color: transparent;\n",
              "    border-bottom-color: var(--fill-color);\n",
              "    animation:\n",
              "      spin 1s steps(1) infinite;\n",
              "  }\n",
              "\n",
              "  @keyframes spin {\n",
              "    0% {\n",
              "      border-color: transparent;\n",
              "      border-bottom-color: var(--fill-color);\n",
              "      border-left-color: var(--fill-color);\n",
              "    }\n",
              "    20% {\n",
              "      border-color: transparent;\n",
              "      border-left-color: var(--fill-color);\n",
              "      border-top-color: var(--fill-color);\n",
              "    }\n",
              "    30% {\n",
              "      border-color: transparent;\n",
              "      border-left-color: var(--fill-color);\n",
              "      border-top-color: var(--fill-color);\n",
              "      border-right-color: var(--fill-color);\n",
              "    }\n",
              "    40% {\n",
              "      border-color: transparent;\n",
              "      border-right-color: var(--fill-color);\n",
              "      border-top-color: var(--fill-color);\n",
              "    }\n",
              "    60% {\n",
              "      border-color: transparent;\n",
              "      border-right-color: var(--fill-color);\n",
              "    }\n",
              "    80% {\n",
              "      border-color: transparent;\n",
              "      border-right-color: var(--fill-color);\n",
              "      border-bottom-color: var(--fill-color);\n",
              "    }\n",
              "    90% {\n",
              "      border-color: transparent;\n",
              "      border-bottom-color: var(--fill-color);\n",
              "    }\n",
              "  }\n",
              "</style>\n",
              "\n",
              "  <script>\n",
              "    async function quickchart(key) {\n",
              "      const quickchartButtonEl =\n",
              "        document.querySelector('#' + key + ' button');\n",
              "      quickchartButtonEl.disabled = true;  // To prevent multiple clicks.\n",
              "      quickchartButtonEl.classList.add('colab-df-spinner');\n",
              "      try {\n",
              "        const charts = await google.colab.kernel.invokeFunction(\n",
              "            'suggestCharts', [key], {});\n",
              "      } catch (error) {\n",
              "        console.error('Error during call to suggestCharts:', error);\n",
              "      }\n",
              "      quickchartButtonEl.classList.remove('colab-df-spinner');\n",
              "      quickchartButtonEl.classList.add('colab-df-quickchart-complete');\n",
              "    }\n",
              "    (() => {\n",
              "      let quickchartButtonEl =\n",
              "        document.querySelector('#df-3b505277-eea9-4d7a-8a55-1fab00e47cec button');\n",
              "      quickchartButtonEl.style.display =\n",
              "        google.colab.kernel.accessAllowed ? 'block' : 'none';\n",
              "    })();\n",
              "  </script>\n",
              "</div>\n",
              "    </div>\n",
              "  </div>\n"
            ],
            "application/vnd.google.colaboratory.intrinsic+json": {
              "type": "dataframe",
              "variable_name": "dataset"
            }
          },
          "metadata": {},
          "execution_count": 6
        }
      ],
      "source": [
        "dataset"
      ]
    },
    {
      "cell_type": "code",
      "execution_count": 7,
      "metadata": {
        "id": "xN9IPWpIjfTw"
      },
      "outputs": [],
      "source": [
        "from sklearn.utils import shuffle\n",
        "\n",
        "dataset = shuffle(dataset)"
      ]
    },
    {
      "cell_type": "code",
      "execution_count": 8,
      "metadata": {
        "colab": {
          "base_uri": "https://localhost:8080/",
          "height": 424
        },
        "id": "KOEgplrBj2Xy",
        "outputId": "895b0aa1-a75d-402e-bdd5-08e5c7a5f7be"
      },
      "outputs": [
        {
          "output_type": "execute_result",
          "data": {
            "text/plain": [
              "                                            last syscalls  \\\n",
              "97437   _opt_google_chrome_chromesyscallsendtosyscall(...   \n",
              "27028   kwin_x11syscallfutexsyscall(0x7ffd6c8c0548, FU...   \n",
              "99482   Xorgsyscallsetitimersyscall(ITIMER_REAL, {it_i...   \n",
              "208831  baloorunnersyscallwritesyscall(5, \"\\1\\0\\0\\0\\0\\...   \n",
              "83487   _usr_sbin_NetworkManagersyscallwritesyscall(7,...   \n",
              "...                                                   ...   \n",
              "316925  _opt_google_chrome_chromesyscallpollsyscall([{...   \n",
              "127106  _usr_bin_kwin_x11syscallfutexsyscall(0x7ffdbd7...   \n",
              "195963  plasmashellsyscallrecvmsgsyscall(6, {msg_name=...   \n",
              "145260  _usr_bin_plasmashellsyscallpollsyscall([{fd=6,...   \n",
              "104524  chromesyscallwritesyscall(30, \"\\1\\0\\0\\0\\0\\0\\0\\...   \n",
              "\n",
              "                                                  syscall  \n",
              "97437   _opt_google_chrome_chromesyscallfutexsyscall(0...  \n",
              "27028   kwin_x11syscallwritesyscall(5, \"\\1\\0\\0\\0\\0\\0\\0...  \n",
              "99482   Xorgsyscallwritevsyscall(71, [{iov_base=\"#\\203...  \n",
              "208831  baloorunnersyscallrecvmsgsyscall(3, {msg_name=...  \n",
              "83487   _usr_sbin_NetworkManagersyscallwritesyscall(7,...  \n",
              "...                                                   ...  \n",
              "316925  _opt_google_chrome_chromesyscallpollsyscall([{...  \n",
              "127106  _usr_bin_kwin_x11syscallrecvmsgsyscall(3, {msg...  \n",
              "195963  plasmashellsyscallpollsyscall([{fd=6, events=P...  \n",
              "145260  _usr_bin_plasmashellsyscallreadsyscall(29, \"\\3...  \n",
              "104524  chromesyscallepoll_waitsyscall(29, [{events=EP...  \n",
              "\n",
              "[366032 rows x 2 columns]"
            ],
            "text/html": [
              "\n",
              "  <div id=\"df-2ab1adb7-9d02-4739-b239-a90ca15baac0\" class=\"colab-df-container\">\n",
              "    <div>\n",
              "<style scoped>\n",
              "    .dataframe tbody tr th:only-of-type {\n",
              "        vertical-align: middle;\n",
              "    }\n",
              "\n",
              "    .dataframe tbody tr th {\n",
              "        vertical-align: top;\n",
              "    }\n",
              "\n",
              "    .dataframe thead th {\n",
              "        text-align: right;\n",
              "    }\n",
              "</style>\n",
              "<table border=\"1\" class=\"dataframe\">\n",
              "  <thead>\n",
              "    <tr style=\"text-align: right;\">\n",
              "      <th></th>\n",
              "      <th>last syscalls</th>\n",
              "      <th>syscall</th>\n",
              "    </tr>\n",
              "  </thead>\n",
              "  <tbody>\n",
              "    <tr>\n",
              "      <th>97437</th>\n",
              "      <td>_opt_google_chrome_chromesyscallsendtosyscall(...</td>\n",
              "      <td>_opt_google_chrome_chromesyscallfutexsyscall(0...</td>\n",
              "    </tr>\n",
              "    <tr>\n",
              "      <th>27028</th>\n",
              "      <td>kwin_x11syscallfutexsyscall(0x7ffd6c8c0548, FU...</td>\n",
              "      <td>kwin_x11syscallwritesyscall(5, \"\\1\\0\\0\\0\\0\\0\\0...</td>\n",
              "    </tr>\n",
              "    <tr>\n",
              "      <th>99482</th>\n",
              "      <td>Xorgsyscallsetitimersyscall(ITIMER_REAL, {it_i...</td>\n",
              "      <td>Xorgsyscallwritevsyscall(71, [{iov_base=\"#\\203...</td>\n",
              "    </tr>\n",
              "    <tr>\n",
              "      <th>208831</th>\n",
              "      <td>baloorunnersyscallwritesyscall(5, \"\\1\\0\\0\\0\\0\\...</td>\n",
              "      <td>baloorunnersyscallrecvmsgsyscall(3, {msg_name=...</td>\n",
              "    </tr>\n",
              "    <tr>\n",
              "      <th>83487</th>\n",
              "      <td>_usr_sbin_NetworkManagersyscallwritesyscall(7,...</td>\n",
              "      <td>_usr_sbin_NetworkManagersyscallwritesyscall(7,...</td>\n",
              "    </tr>\n",
              "    <tr>\n",
              "      <th>...</th>\n",
              "      <td>...</td>\n",
              "      <td>...</td>\n",
              "    </tr>\n",
              "    <tr>\n",
              "      <th>316925</th>\n",
              "      <td>_opt_google_chrome_chromesyscallpollsyscall([{...</td>\n",
              "      <td>_opt_google_chrome_chromesyscallpollsyscall([{...</td>\n",
              "    </tr>\n",
              "    <tr>\n",
              "      <th>127106</th>\n",
              "      <td>_usr_bin_kwin_x11syscallfutexsyscall(0x7ffdbd7...</td>\n",
              "      <td>_usr_bin_kwin_x11syscallrecvmsgsyscall(3, {msg...</td>\n",
              "    </tr>\n",
              "    <tr>\n",
              "      <th>195963</th>\n",
              "      <td>plasmashellsyscallrecvmsgsyscall(6, {msg_name=...</td>\n",
              "      <td>plasmashellsyscallpollsyscall([{fd=6, events=P...</td>\n",
              "    </tr>\n",
              "    <tr>\n",
              "      <th>145260</th>\n",
              "      <td>_usr_bin_plasmashellsyscallpollsyscall([{fd=6,...</td>\n",
              "      <td>_usr_bin_plasmashellsyscallreadsyscall(29, \"\\3...</td>\n",
              "    </tr>\n",
              "    <tr>\n",
              "      <th>104524</th>\n",
              "      <td>chromesyscallwritesyscall(30, \"\\1\\0\\0\\0\\0\\0\\0\\...</td>\n",
              "      <td>chromesyscallepoll_waitsyscall(29, [{events=EP...</td>\n",
              "    </tr>\n",
              "  </tbody>\n",
              "</table>\n",
              "<p>366032 rows × 2 columns</p>\n",
              "</div>\n",
              "    <div class=\"colab-df-buttons\">\n",
              "\n",
              "  <div class=\"colab-df-container\">\n",
              "    <button class=\"colab-df-convert\" onclick=\"convertToInteractive('df-2ab1adb7-9d02-4739-b239-a90ca15baac0')\"\n",
              "            title=\"Convert this dataframe to an interactive table.\"\n",
              "            style=\"display:none;\">\n",
              "\n",
              "  <svg xmlns=\"http://www.w3.org/2000/svg\" height=\"24px\" viewBox=\"0 -960 960 960\">\n",
              "    <path d=\"M120-120v-720h720v720H120Zm60-500h600v-160H180v160Zm220 220h160v-160H400v160Zm0 220h160v-160H400v160ZM180-400h160v-160H180v160Zm440 0h160v-160H620v160ZM180-180h160v-160H180v160Zm440 0h160v-160H620v160Z\"/>\n",
              "  </svg>\n",
              "    </button>\n",
              "\n",
              "  <style>\n",
              "    .colab-df-container {\n",
              "      display:flex;\n",
              "      gap: 12px;\n",
              "    }\n",
              "\n",
              "    .colab-df-convert {\n",
              "      background-color: #E8F0FE;\n",
              "      border: none;\n",
              "      border-radius: 50%;\n",
              "      cursor: pointer;\n",
              "      display: none;\n",
              "      fill: #1967D2;\n",
              "      height: 32px;\n",
              "      padding: 0 0 0 0;\n",
              "      width: 32px;\n",
              "    }\n",
              "\n",
              "    .colab-df-convert:hover {\n",
              "      background-color: #E2EBFA;\n",
              "      box-shadow: 0px 1px 2px rgba(60, 64, 67, 0.3), 0px 1px 3px 1px rgba(60, 64, 67, 0.15);\n",
              "      fill: #174EA6;\n",
              "    }\n",
              "\n",
              "    .colab-df-buttons div {\n",
              "      margin-bottom: 4px;\n",
              "    }\n",
              "\n",
              "    [theme=dark] .colab-df-convert {\n",
              "      background-color: #3B4455;\n",
              "      fill: #D2E3FC;\n",
              "    }\n",
              "\n",
              "    [theme=dark] .colab-df-convert:hover {\n",
              "      background-color: #434B5C;\n",
              "      box-shadow: 0px 1px 3px 1px rgba(0, 0, 0, 0.15);\n",
              "      filter: drop-shadow(0px 1px 2px rgba(0, 0, 0, 0.3));\n",
              "      fill: #FFFFFF;\n",
              "    }\n",
              "  </style>\n",
              "\n",
              "    <script>\n",
              "      const buttonEl =\n",
              "        document.querySelector('#df-2ab1adb7-9d02-4739-b239-a90ca15baac0 button.colab-df-convert');\n",
              "      buttonEl.style.display =\n",
              "        google.colab.kernel.accessAllowed ? 'block' : 'none';\n",
              "\n",
              "      async function convertToInteractive(key) {\n",
              "        const element = document.querySelector('#df-2ab1adb7-9d02-4739-b239-a90ca15baac0');\n",
              "        const dataTable =\n",
              "          await google.colab.kernel.invokeFunction('convertToInteractive',\n",
              "                                                    [key], {});\n",
              "        if (!dataTable) return;\n",
              "\n",
              "        const docLinkHtml = 'Like what you see? Visit the ' +\n",
              "          '<a target=\"_blank\" href=https://colab.research.google.com/notebooks/data_table.ipynb>data table notebook</a>'\n",
              "          + ' to learn more about interactive tables.';\n",
              "        element.innerHTML = '';\n",
              "        dataTable['output_type'] = 'display_data';\n",
              "        await google.colab.output.renderOutput(dataTable, element);\n",
              "        const docLink = document.createElement('div');\n",
              "        docLink.innerHTML = docLinkHtml;\n",
              "        element.appendChild(docLink);\n",
              "      }\n",
              "    </script>\n",
              "  </div>\n",
              "\n",
              "\n",
              "<div id=\"df-a6386c9b-ffd3-47f9-aa4f-c66bf1ff3398\">\n",
              "  <button class=\"colab-df-quickchart\" onclick=\"quickchart('df-a6386c9b-ffd3-47f9-aa4f-c66bf1ff3398')\"\n",
              "            title=\"Suggest charts\"\n",
              "            style=\"display:none;\">\n",
              "\n",
              "<svg xmlns=\"http://www.w3.org/2000/svg\" height=\"24px\"viewBox=\"0 0 24 24\"\n",
              "     width=\"24px\">\n",
              "    <g>\n",
              "        <path d=\"M19 3H5c-1.1 0-2 .9-2 2v14c0 1.1.9 2 2 2h14c1.1 0 2-.9 2-2V5c0-1.1-.9-2-2-2zM9 17H7v-7h2v7zm4 0h-2V7h2v10zm4 0h-2v-4h2v4z\"/>\n",
              "    </g>\n",
              "</svg>\n",
              "  </button>\n",
              "\n",
              "<style>\n",
              "  .colab-df-quickchart {\n",
              "      --bg-color: #E8F0FE;\n",
              "      --fill-color: #1967D2;\n",
              "      --hover-bg-color: #E2EBFA;\n",
              "      --hover-fill-color: #174EA6;\n",
              "      --disabled-fill-color: #AAA;\n",
              "      --disabled-bg-color: #DDD;\n",
              "  }\n",
              "\n",
              "  [theme=dark] .colab-df-quickchart {\n",
              "      --bg-color: #3B4455;\n",
              "      --fill-color: #D2E3FC;\n",
              "      --hover-bg-color: #434B5C;\n",
              "      --hover-fill-color: #FFFFFF;\n",
              "      --disabled-bg-color: #3B4455;\n",
              "      --disabled-fill-color: #666;\n",
              "  }\n",
              "\n",
              "  .colab-df-quickchart {\n",
              "    background-color: var(--bg-color);\n",
              "    border: none;\n",
              "    border-radius: 50%;\n",
              "    cursor: pointer;\n",
              "    display: none;\n",
              "    fill: var(--fill-color);\n",
              "    height: 32px;\n",
              "    padding: 0;\n",
              "    width: 32px;\n",
              "  }\n",
              "\n",
              "  .colab-df-quickchart:hover {\n",
              "    background-color: var(--hover-bg-color);\n",
              "    box-shadow: 0 1px 2px rgba(60, 64, 67, 0.3), 0 1px 3px 1px rgba(60, 64, 67, 0.15);\n",
              "    fill: var(--button-hover-fill-color);\n",
              "  }\n",
              "\n",
              "  .colab-df-quickchart-complete:disabled,\n",
              "  .colab-df-quickchart-complete:disabled:hover {\n",
              "    background-color: var(--disabled-bg-color);\n",
              "    fill: var(--disabled-fill-color);\n",
              "    box-shadow: none;\n",
              "  }\n",
              "\n",
              "  .colab-df-spinner {\n",
              "    border: 2px solid var(--fill-color);\n",
              "    border-color: transparent;\n",
              "    border-bottom-color: var(--fill-color);\n",
              "    animation:\n",
              "      spin 1s steps(1) infinite;\n",
              "  }\n",
              "\n",
              "  @keyframes spin {\n",
              "    0% {\n",
              "      border-color: transparent;\n",
              "      border-bottom-color: var(--fill-color);\n",
              "      border-left-color: var(--fill-color);\n",
              "    }\n",
              "    20% {\n",
              "      border-color: transparent;\n",
              "      border-left-color: var(--fill-color);\n",
              "      border-top-color: var(--fill-color);\n",
              "    }\n",
              "    30% {\n",
              "      border-color: transparent;\n",
              "      border-left-color: var(--fill-color);\n",
              "      border-top-color: var(--fill-color);\n",
              "      border-right-color: var(--fill-color);\n",
              "    }\n",
              "    40% {\n",
              "      border-color: transparent;\n",
              "      border-right-color: var(--fill-color);\n",
              "      border-top-color: var(--fill-color);\n",
              "    }\n",
              "    60% {\n",
              "      border-color: transparent;\n",
              "      border-right-color: var(--fill-color);\n",
              "    }\n",
              "    80% {\n",
              "      border-color: transparent;\n",
              "      border-right-color: var(--fill-color);\n",
              "      border-bottom-color: var(--fill-color);\n",
              "    }\n",
              "    90% {\n",
              "      border-color: transparent;\n",
              "      border-bottom-color: var(--fill-color);\n",
              "    }\n",
              "  }\n",
              "</style>\n",
              "\n",
              "  <script>\n",
              "    async function quickchart(key) {\n",
              "      const quickchartButtonEl =\n",
              "        document.querySelector('#' + key + ' button');\n",
              "      quickchartButtonEl.disabled = true;  // To prevent multiple clicks.\n",
              "      quickchartButtonEl.classList.add('colab-df-spinner');\n",
              "      try {\n",
              "        const charts = await google.colab.kernel.invokeFunction(\n",
              "            'suggestCharts', [key], {});\n",
              "      } catch (error) {\n",
              "        console.error('Error during call to suggestCharts:', error);\n",
              "      }\n",
              "      quickchartButtonEl.classList.remove('colab-df-spinner');\n",
              "      quickchartButtonEl.classList.add('colab-df-quickchart-complete');\n",
              "    }\n",
              "    (() => {\n",
              "      let quickchartButtonEl =\n",
              "        document.querySelector('#df-a6386c9b-ffd3-47f9-aa4f-c66bf1ff3398 button');\n",
              "      quickchartButtonEl.style.display =\n",
              "        google.colab.kernel.accessAllowed ? 'block' : 'none';\n",
              "    })();\n",
              "  </script>\n",
              "</div>\n",
              "    </div>\n",
              "  </div>\n"
            ],
            "application/vnd.google.colaboratory.intrinsic+json": {
              "type": "dataframe",
              "variable_name": "dataset"
            }
          },
          "metadata": {},
          "execution_count": 8
        }
      ],
      "source": [
        "dataset"
      ]
    },
    {
      "cell_type": "markdown",
      "metadata": {
        "id": "iLz5hn8Ja5wE"
      },
      "source": [
        "## Выбор девайса"
      ]
    },
    {
      "cell_type": "code",
      "execution_count": null,
      "metadata": {
        "colab": {
          "base_uri": "https://localhost:8080/"
        },
        "id": "Gfs23dJCCvT3",
        "outputId": "0be1acc7-52c8-420e-af6c-453201ffc2ba"
      },
      "outputs": [
        {
          "output_type": "stream",
          "name": "stdout",
          "text": [
            "Using cpu device\n"
          ]
        }
      ],
      "source": [
        "device = (\n",
        "    \"cuda\"\n",
        "    if torch.cuda.is_available()\n",
        "    else \"mps\"\n",
        "    if torch.backends.mps.is_available()\n",
        "    else \"cpu\"\n",
        ")\n",
        "print(f\"Using {device} device\")"
      ]
    },
    {
      "cell_type": "code",
      "execution_count": null,
      "metadata": {
        "id": "zt14VO3uvDCV"
      },
      "outputs": [],
      "source": [
        "from collections import Counter, defaultdict\n",
        "\n",
        "import numpy as np\n",
        "import pandas as pd\n",
        "import torch\n",
        "from torch.nn import Embedding, Linear, LSTM, Module, Sigmoid, Tanh\n",
        "import torch.nn.functional as F\n",
        "from torch.utils.data import Dataset, DataLoader, SubsetRandomSampler\n",
        "from tqdm import tqdm\n",
        "import re\n",
        "import time"
      ]
    },
    {
      "cell_type": "markdown",
      "metadata": {
        "id": "vuIlZp3UwFyi"
      },
      "source": [
        "## Разбиение данных на токены"
      ]
    },
    {
      "cell_type": "code",
      "execution_count": null,
      "metadata": {
        "id": "5sJ5rHppwL32"
      },
      "outputs": [],
      "source": [
        "import re\n",
        "\n",
        "def tokenizer(syscalls):\n",
        "    syscalls = syscalls.split(sep='last_n_syscalls')\n",
        "    tokens = []\n",
        "\n",
        "    for syscall in syscalls:\n",
        "        str = syscall.split(sep='syscall')\n",
        "        str = [s if len(s) > 0 else '<pad>' for s in str]\n",
        "        tokens.extend([str[0], str[1], str[2], str[3]])\n",
        "\n",
        "    return tokens"
      ]
    },
    {
      "cell_type": "markdown",
      "metadata": {
        "id": "41CtKr8h8CCU"
      },
      "source": [
        "## Преобразование токены в коды"
      ]
    },
    {
      "cell_type": "code",
      "execution_count": null,
      "metadata": {
        "id": "Gd9WUBdZ7Obo"
      },
      "outputs": [],
      "source": [
        "from collections import Counter"
      ]
    },
    {
      "cell_type": "code",
      "execution_count": null,
      "metadata": {
        "id": "tepZ3o1f-v7u"
      },
      "outputs": [],
      "source": [
        "def token_to_sequence(tokens, token2index):\n",
        "    seq = []\n",
        "    for token in tokens:\n",
        "        index = token2index.get(token, len(token2index) - 1) # len(token2index) - 1 означает неизвестное слово\n",
        "        seq.append(index)\n",
        "\n",
        "    return seq"
      ]
    },
    {
      "cell_type": "markdown",
      "metadata": {
        "id": "FAyN6LAVvJs4"
      },
      "source": [
        "## Класс данных системных вызовов для обучения"
      ]
    },
    {
      "cell_type": "code",
      "source": [
        "tokenizer(dataset.iloc[3]['last syscalls'])"
      ],
      "metadata": {
        "colab": {
          "base_uri": "https://localhost:8080/"
        },
        "id": "cpYDYOp-zo5W",
        "outputId": "63e31540-284f-4bae-8049-6a7af3af4cce"
      },
      "execution_count": null,
      "outputs": [
        {
          "output_type": "execute_result",
          "data": {
            "text/plain": [
              "['kwin_x11',\n",
              " 'futex',\n",
              " '(0x7ffd6c8c05c8, FUTEX_WAKE_PRIVATE, 1)',\n",
              " '1',\n",
              " 'kwin_x11',\n",
              " 'poll',\n",
              " '([{fd=3, events=POLLIN}], 1, -1)',\n",
              " '1',\n",
              " 'kwin_x11',\n",
              " 'recvmsg',\n",
              " '(3, {msg_name=NULL, msg_namelen=0, msg_iov=[{iov_base=\"\\\\1\\\\1\\\\264}\\\\0\\\\0\\\\0\\\\0m\\\\7\\\\0\\\\0\\\\314\\\\343\\\\241\\\\1\\\\200\\\\0w\\\\0\\\\200\\\\0w\\\\0\\\\0\\\\0\\\\0\\\\0\\\\0\\\\0\\\\0\\\\0\", iov_len=4096}], msg_iovlen=1, msg_controllen=0, msg_flags=0}, 0)',\n",
              " '32',\n",
              " 'kwin_x11',\n",
              " 'futex',\n",
              " '(0x7ffd6c8c14a8, FUTEX_WAKE_PRIVATE, 1)',\n",
              " '1',\n",
              " 'kwin_x11',\n",
              " 'futex',\n",
              " '(0x5608242cc868, FUTEX_WAKE_PRIVATE, 1)',\n",
              " '0']"
            ]
          },
          "metadata": {},
          "execution_count": 14
        }
      ]
    },
    {
      "cell_type": "code",
      "execution_count": null,
      "metadata": {
        "id": "5U2UhfC1vIVi"
      },
      "outputs": [],
      "source": [
        "def add_tokens_to_index(index, tokens_counter):\n",
        "    for token in tokens_counter.most_common():\n",
        "        if token[0] not in index:\n",
        "          index[token[0]] = len(index)\n",
        "    return index\n",
        "\n",
        "class SyscallDataset(Dataset):\n",
        "    def __init__(self, dataset, token_size):\n",
        "        self.dataset = dataset\n",
        "\n",
        "        # Разбиваем системные вызовы на токены\n",
        "        self.last_syscalls_tokens = [tokenizer(self.dataset.iloc[i]['last syscalls']) for i in range(len(self.dataset))]\n",
        "        self.syscall_tokens = [tokenizer(self.dataset.iloc[i]['syscall']) for i in range(len(self.dataset))]\n",
        "\n",
        "        # Все токены встретившихся системных вызовов\n",
        "        syscalls_names = [last_syscall[j+1] for last_syscall in self.last_syscalls_tokens\n",
        "                              for j in [*range(len(last_syscall))][::len(self.syscall_tokens[0])]]\n",
        "\n",
        "        syscalls_names.extend([syscall[1] for syscall in self.syscall_tokens])\n",
        "\n",
        "        # Все токены встретившихся команд\n",
        "        command_names = [last_syscall[j] for last_syscall in self.last_syscalls_tokens\n",
        "                              for j in [*range(len(last_syscall))][::len(self.syscall_tokens[0])]]\n",
        "\n",
        "        command_names.extend([syscall[0] for syscall in self.syscall_tokens])\n",
        "\n",
        "        # Индексируем встречающиеся названия системных вызовов по их встречаемости\n",
        "        syscall_names_tokens_counter = Counter(syscalls_names)\n",
        "\n",
        "        most_common_token2index = {'<pad>': 0}\n",
        "        most_common_token2index = add_tokens_to_index(most_common_token2index, syscall_names_tokens_counter)\n",
        "\n",
        "        # Все названия встретившихся системных вызовов\n",
        "        self.syscalls_name = syscall_names_tokens_counter.keys()\n",
        "\n",
        "        # Добавление токенов названий команд для индексации\n",
        "        command_names_tokens_counter = Counter(command_names)\n",
        "        most_common_token2index = add_tokens_to_index(most_common_token2index, command_names_tokens_counter)\n",
        "\n",
        "\n",
        "        # Все названия встретившихся команд\n",
        "        self.сommands_name = list(command_names_tokens_counter.keys())\n",
        "\n",
        "        # Добавление оставшихся токенов для индексации\n",
        "        left_tokens_counter = Counter()\n",
        "\n",
        "        for syscalls_token in self.last_syscalls_tokens:\n",
        "            for token in syscalls_token:\n",
        "                if token not in self.syscalls_name and token not in self.сommands_name:\n",
        "                    left_tokens_counter.update({token: 1})\n",
        "\n",
        "        most_common_token2index = add_tokens_to_index(most_common_token2index, left_tokens_counter)\n",
        "\n",
        "        # Оставляем только token_size - 1 самых популярных токенов\n",
        "        filtered_most_common_token2index = {k: v for k, v in most_common_token2index.items() if v < token_size - 1}\n",
        "\n",
        "        # Словарь, отображающий токены в коды\n",
        "        self.token2index = dict()\n",
        "\n",
        "        # Словарь, отображающий коды в токены\n",
        "        self.index2token = dict()\n",
        "\n",
        "        print(len(filtered_most_common_token2index))\n",
        "        self.token2index.update(filtered_most_common_token2index)\n",
        "        self.token2index[\"<unk>\"] = len(self.token2index)\n",
        "        print(len(self.token2index))\n",
        "        self.index2token = {v: k for k, v in self.token2index.items()}\n",
        "        self.token_size = min(len(self.index2token), token_size)\n",
        "        self.vocabulary = [self.index2token[i] for i in range(len(self.syscalls_name))]\n",
        "\n",
        "    def __len__(self):\n",
        "        return len(self.dataset)\n",
        "\n",
        "    def __getitem__(self, ix):\n",
        "        X = torch.LongTensor(\n",
        "            token_to_sequence(self.last_syscalls_tokens[ix], self.token2index)\n",
        "        )\n",
        "\n",
        "        y = token_to_sequence(self.syscall_tokens[ix], self.token2index)[1] - 1 # -1 потому что padding 0\n",
        "\n",
        "        return X, y\n"
      ]
    },
    {
      "cell_type": "markdown",
      "metadata": {
        "id": "RH0-Y3anvU27"
      },
      "source": [
        "## Класс Bidirectional LSTM нейронной сети системных вызовов"
      ]
    },
    {
      "cell_type": "code",
      "execution_count": null,
      "metadata": {
        "id": "996ZU16fvUos"
      },
      "outputs": [],
      "source": [
        "class SyscallBiLSTMNetwork(Module):\n",
        "    def __init__(\n",
        "        self,\n",
        "        token_size,\n",
        "        syscalls_name_len,\n",
        "        embedding_dim=4,\n",
        "        rnn_num_layers=1,\n",
        "        rnn_dropout_prob=0.0,\n",
        "        hidden_size=16,\n",
        "        max_norm=2,\n",
        "    ):\n",
        "        super().__init__()\n",
        "\n",
        "        self.embedding = Embedding(\n",
        "            token_size,\n",
        "            embedding_dim,\n",
        "            padding_idx=0,\n",
        "            norm_type=2,\n",
        "            max_norm=max_norm\n",
        "        )\n",
        "\n",
        "        self.lstm = nn.LSTM(\n",
        "            embedding_dim,\n",
        "            hidden_size,\n",
        "            num_layers=rnn_num_layers,\n",
        "            bidirectional = True,\n",
        "            dropout=rnn_dropout_prob,\n",
        "            batch_first=True,\n",
        "        )\n",
        "\n",
        "        self.linear = nn.Linear(\n",
        "            2 * hidden_size,\n",
        "            syscalls_name_len\n",
        "          )\n",
        "\n",
        "    def forward(self, x):\n",
        "        embs = self.embedding(x)  # (n_samples, 45, embedding_dim)\n",
        "        out, (hidden_state,cell_state) = self.lstm(embs)\n",
        "        hidden = torch.cat((hidden_state[-2,:,:], hidden_state[-1,:,:]), dim = 1)\n",
        "        logits = self.linear(hidden)\n",
        "        return logits\n",
        "\n",
        "def compute_loss_accuracy_perfomance(loss_f, net, dataloader):\n",
        "    net.eval()\n",
        "    all_losses = []\n",
        "    all_accuracy = []\n",
        "    all_perfomance = 0\n",
        "\n",
        "    for X_batch, y_batch in dataloader:\n",
        "        time_start = time.time_ns()\n",
        "        pred = net(X_batch)\n",
        "        time_end = time.time_ns()\n",
        "        all_perfomance += (time_end - time_start)\n",
        "\n",
        "        all_losses.append(loss_f(pred, y_batch).item())\n",
        "\n",
        "        pred = pred.argmax(dim=1)\n",
        "        all_accuracy.append((pred == y_batch).float().mean())\n",
        "\n",
        "    return np.mean(all_losses), np.mean(all_accuracy), (all_perfomance // len(dataloader.sampler.indices))\n"
      ]
    },
    {
      "cell_type": "markdown",
      "source": [
        "## Класс нейронной сети системных вызовов"
      ],
      "metadata": {
        "id": "qeqNv2de9rdh"
      }
    },
    {
      "cell_type": "code",
      "source": [
        "class SyscallNetwork(Module):\n",
        "    def __init__(\n",
        "        self,\n",
        "        token_size,\n",
        "        syscalls_name_len,\n",
        "        embedding_dim=4,\n",
        "        max_norm=2,\n",
        "    ):\n",
        "        super().__init__()\n",
        "\n",
        "        self.embedding = Embedding(\n",
        "            token_size,\n",
        "            embedding_dim,\n",
        "            padding_idx=0,\n",
        "            norm_type=2,\n",
        "            max_norm=max_norm\n",
        "        )\n",
        "\n",
        "        self.linear = Linear(4 * 5 * embedding_dim, syscalls_name_len)\n",
        "\n",
        "    def forward(self, x):\n",
        "        emb = self.embedding(x)  # (n_samples, 45, 2)\n",
        "        emb = emb.reshape(x.shape[0], -1)\n",
        "        x = self.linear(emb)\n",
        "\n",
        "        return x\n",
        "\n",
        "def compute_loss_accuracy_perfomance(loss, net, dataloader):\n",
        "    net.eval()\n",
        "    all_losses = []\n",
        "    all_accuracy = []\n",
        "    all_perfomance = 0\n",
        "\n",
        "    for X_batch, y_batch in dataloader:\n",
        "        time_start = time.time_ns()\n",
        "        pred = net(X_batch)\n",
        "        time_end = time.time_ns()\n",
        "        all_perfomance += (time_end - time_start)\n",
        "\n",
        "        all_losses.append(loss(pred, y_batch).item())\n",
        "\n",
        "        pred = pred.argmax(dim=1)\n",
        "        all_accuracy.append((pred == y_batch).float().mean())\n",
        "\n",
        "    return np.mean(all_losses), np.mean(all_accuracy), (all_perfomance // len(dataloader.sampler.indices))\n"
      ],
      "metadata": {
        "id": "6KLicJ-v9sE0"
      },
      "execution_count": null,
      "outputs": []
    },
    {
      "cell_type": "markdown",
      "metadata": {
        "id": "j3AzrizFvl2n"
      },
      "source": [
        "#### Задание гиперпараметров"
      ]
    },
    {
      "cell_type": "code",
      "execution_count": null,
      "metadata": {
        "id": "kLAOIdHJ48u2"
      },
      "outputs": [],
      "source": [
        "n_epochs = 50\n",
        "train_split = 0.7\n",
        "val_split = 0.1\n",
        "batch_size = 1024"
      ]
    },
    {
      "cell_type": "markdown",
      "metadata": {
        "id": "2VXHYLlE5dpG"
      },
      "source": [
        "#### Функция потерь"
      ]
    },
    {
      "cell_type": "code",
      "execution_count": null,
      "metadata": {
        "id": "NvYGQC8T5kzc"
      },
      "outputs": [],
      "source": [
        "loss_f = torch.nn.CrossEntropyLoss()"
      ]
    },
    {
      "cell_type": "markdown",
      "metadata": {
        "id": "Z6hl6eoj6iw0"
      },
      "source": [
        "## Создание тренировочного и валидационного датасета"
      ]
    },
    {
      "cell_type": "code",
      "execution_count": null,
      "metadata": {
        "id": "sxhUs7gd6hkx",
        "colab": {
          "base_uri": "https://localhost:8080/"
        },
        "outputId": "4255052a-c5e6-49f5-f3bc-d34838e7620d"
      },
      "outputs": [
        {
          "output_type": "stream",
          "name": "stdout",
          "text": [
            "499\n",
            "500\n"
          ]
        }
      ],
      "source": [
        "token_size = 500 # максимальное количество токенов\n",
        "\n",
        "syscalldataset = SyscallDataset(dataset, token_size)\n",
        "\n",
        "\n",
        "n_samples = len(dataset)\n",
        "train_ix = int(n_samples * train_split)\n",
        "val_ix = int(n_samples * val_split) + train_ix\n",
        "\n",
        "train_indices, val_indices, test_indices = np.arange(train_ix), np.arange(train_ix, val_ix), np.arange(val_ix, n_samples)\n",
        "\n",
        "train_dataloader = DataLoader(\n",
        "        syscalldataset, sampler=SubsetRandomSampler(train_indices),\n",
        "        batch_size=batch_size\n",
        ")\n",
        "val_dataloader = DataLoader(\n",
        "        syscalldataset, sampler=SubsetRandomSampler(val_indices),\n",
        "        batch_size=batch_size\n",
        ")\n",
        "test_dataloader = DataLoader(\n",
        "        syscalldataset, sampler=SubsetRandomSampler(test_indices),\n",
        "        batch_size=batch_size\n",
        ")"
      ]
    },
    {
      "cell_type": "markdown",
      "metadata": {
        "id": "K9r6tX1YDJPf"
      },
      "source": [
        "## Создание Bidirectional LSTM нейронной сети и оптимайзера\n"
      ]
    },
    {
      "cell_type": "code",
      "execution_count": null,
      "metadata": {
        "id": "wyRC1sJ7DIsL"
      },
      "outputs": [],
      "source": [
        "token_size = 500 # максимальное количество токенов\n",
        "embedding_dim = 4\n",
        "hidden_size = 16\n",
        "max_norm = 2\n",
        "rnn_num_layers=1\n",
        "lr = 3e-3\n",
        "\n",
        "lstm_net = SyscallBiLSTMNetwork(\n",
        "        token_size=token_size,\n",
        "        syscalls_name_len=len(syscalldataset.syscalls_name),\n",
        "        embedding_dim=embedding_dim,\n",
        "        rnn_num_layers=rnn_num_layers,\n",
        "        hidden_size=hidden_size,\n",
        "        max_norm=max_norm,\n",
        ")\n",
        "\n",
        "lstm_optimizer = torch.optim.Adam(\n",
        "        lstm_net.parameters(),\n",
        "        lr=lr,\n",
        ")"
      ]
    },
    {
      "cell_type": "markdown",
      "metadata": {
        "id": "8-Fh9VlbE_GG"
      },
      "source": [
        "## Обучение BiLSTM нейронной сети и сохранение лучшей модели"
      ]
    },
    {
      "cell_type": "code",
      "execution_count": null,
      "metadata": {
        "colab": {
          "base_uri": "https://localhost:8080/"
        },
        "id": "G5mEDlDFvj_0",
        "outputId": "39abc908-4b49-4c96-870d-802b6ed96af7"
      },
      "outputs": [
        {
          "output_type": "stream",
          "name": "stderr",
          "text": [
            "100%|██████████| 251/251 [00:26<00:00,  9.45it/s]\n"
          ]
        },
        {
          "output_type": "stream",
          "name": "stdout",
          "text": [
            "Epoch: 0, train loss: train_loss=1.876, validation loss val_loss=1.884\n",
            "Perfomance 27733\n",
            "Accuracy: 0.3856305480003357\n"
          ]
        },
        {
          "output_type": "stream",
          "name": "stderr",
          "text": [
            "100%|██████████| 251/251 [00:23<00:00, 10.90it/s]\n"
          ]
        },
        {
          "output_type": "stream",
          "name": "stdout",
          "text": [
            "Epoch: 1, train loss: train_loss=1.200, validation loss val_loss=1.206\n",
            "Perfomance 32820\n",
            "Accuracy: 0.6604149341583252\n"
          ]
        },
        {
          "output_type": "stream",
          "name": "stderr",
          "text": [
            "100%|██████████| 251/251 [00:22<00:00, 10.97it/s]\n"
          ]
        },
        {
          "output_type": "stream",
          "name": "stdout",
          "text": [
            "Epoch: 2, train loss: train_loss=0.967, validation loss val_loss=0.976\n",
            "Perfomance 29862\n",
            "Accuracy: 0.7227407097816467\n"
          ]
        },
        {
          "output_type": "stream",
          "name": "stderr",
          "text": [
            "100%|██████████| 251/251 [00:24<00:00, 10.41it/s]\n"
          ]
        },
        {
          "output_type": "stream",
          "name": "stdout",
          "text": [
            "Epoch: 3, train loss: train_loss=0.843, validation loss val_loss=0.855\n",
            "Perfomance 27488\n",
            "Accuracy: 0.7531425952911377\n"
          ]
        },
        {
          "output_type": "stream",
          "name": "stderr",
          "text": [
            "100%|██████████| 251/251 [00:24<00:00, 10.07it/s]\n"
          ]
        },
        {
          "output_type": "stream",
          "name": "stdout",
          "text": [
            "Epoch: 4, train loss: train_loss=0.767, validation loss val_loss=0.783\n",
            "Perfomance 28283\n",
            "Accuracy: 0.7687897086143494\n"
          ]
        },
        {
          "output_type": "stream",
          "name": "stderr",
          "text": [
            "100%|██████████| 251/251 [00:25<00:00,  9.95it/s]\n"
          ]
        },
        {
          "output_type": "stream",
          "name": "stdout",
          "text": [
            "Epoch: 5, train loss: train_loss=0.720, validation loss val_loss=0.736\n",
            "Perfomance 28019\n",
            "Accuracy: 0.7845317721366882\n"
          ]
        },
        {
          "output_type": "stream",
          "name": "stderr",
          "text": [
            "100%|██████████| 251/251 [00:26<00:00,  9.63it/s]\n"
          ]
        },
        {
          "output_type": "stream",
          "name": "stdout",
          "text": [
            "Epoch: 6, train loss: train_loss=0.679, validation loss val_loss=0.697\n",
            "Perfomance 29790\n",
            "Accuracy: 0.7987590432167053\n"
          ]
        },
        {
          "output_type": "stream",
          "name": "stderr",
          "text": [
            "100%|██████████| 251/251 [00:23<00:00, 10.60it/s]\n"
          ]
        },
        {
          "output_type": "stream",
          "name": "stdout",
          "text": [
            "Epoch: 7, train loss: train_loss=0.655, validation loss val_loss=0.672\n",
            "Perfomance 36961\n",
            "Accuracy: 0.804511308670044\n"
          ]
        },
        {
          "output_type": "stream",
          "name": "stderr",
          "text": [
            "100%|██████████| 251/251 [00:25<00:00,  9.87it/s]\n"
          ]
        },
        {
          "output_type": "stream",
          "name": "stdout",
          "text": [
            "Epoch: 8, train loss: train_loss=0.639, validation loss val_loss=0.658\n",
            "Perfomance 32221\n",
            "Accuracy: 0.807187557220459\n"
          ]
        },
        {
          "output_type": "stream",
          "name": "stderr",
          "text": [
            "100%|██████████| 251/251 [00:24<00:00, 10.30it/s]\n"
          ]
        },
        {
          "output_type": "stream",
          "name": "stdout",
          "text": [
            "Epoch: 9, train loss: train_loss=0.620, validation loss val_loss=0.639\n",
            "Perfomance 29101\n",
            "Accuracy: 0.8142669200897217\n"
          ]
        },
        {
          "output_type": "stream",
          "name": "stderr",
          "text": [
            "100%|██████████| 251/251 [00:24<00:00, 10.12it/s]\n"
          ]
        },
        {
          "output_type": "stream",
          "name": "stdout",
          "text": [
            "Epoch: 10, train loss: train_loss=0.603, validation loss val_loss=0.622\n",
            "Perfomance 28417\n",
            "Accuracy: 0.8189399242401123\n"
          ]
        },
        {
          "output_type": "stream",
          "name": "stderr",
          "text": [
            "100%|██████████| 251/251 [00:24<00:00, 10.32it/s]\n"
          ]
        },
        {
          "output_type": "stream",
          "name": "stdout",
          "text": [
            "Epoch: 11, train loss: train_loss=0.587, validation loss val_loss=0.609\n",
            "Perfomance 28036\n",
            "Accuracy: 0.8195345401763916\n"
          ]
        },
        {
          "output_type": "stream",
          "name": "stderr",
          "text": [
            "100%|██████████| 251/251 [00:24<00:00, 10.08it/s]\n"
          ]
        },
        {
          "output_type": "stream",
          "name": "stdout",
          "text": [
            "Epoch: 12, train loss: train_loss=0.580, validation loss val_loss=0.599\n",
            "Perfomance 27880\n",
            "Accuracy: 0.8239961862564087\n"
          ]
        },
        {
          "output_type": "stream",
          "name": "stderr",
          "text": [
            "100%|██████████| 251/251 [00:23<00:00, 10.67it/s]\n"
          ]
        },
        {
          "output_type": "stream",
          "name": "stdout",
          "text": [
            "Epoch: 13, train loss: train_loss=0.579, validation loss val_loss=0.600\n",
            "Perfomance 32712\n",
            "Accuracy: 0.8231666088104248\n"
          ]
        },
        {
          "output_type": "stream",
          "name": "stderr",
          "text": [
            "100%|██████████| 251/251 [00:23<00:00, 10.73it/s]\n"
          ]
        },
        {
          "output_type": "stream",
          "name": "stdout",
          "text": [
            "Epoch: 14, train loss: train_loss=0.564, validation loss val_loss=0.585\n",
            "Perfomance 35380\n",
            "Accuracy: 0.8269136548042297\n"
          ]
        },
        {
          "output_type": "stream",
          "name": "stderr",
          "text": [
            "100%|██████████| 251/251 [00:23<00:00, 10.48it/s]\n"
          ]
        },
        {
          "output_type": "stream",
          "name": "stdout",
          "text": [
            "Epoch: 15, train loss: train_loss=0.557, validation loss val_loss=0.578\n",
            "Perfomance 27815\n",
            "Accuracy: 0.8280823230743408\n"
          ]
        },
        {
          "output_type": "stream",
          "name": "stderr",
          "text": [
            "100%|██████████| 251/251 [00:23<00:00, 10.62it/s]\n"
          ]
        },
        {
          "output_type": "stream",
          "name": "stdout",
          "text": [
            "Epoch: 16, train loss: train_loss=0.548, validation loss val_loss=0.567\n",
            "Perfomance 27572\n",
            "Accuracy: 0.8300760984420776\n"
          ]
        },
        {
          "output_type": "stream",
          "name": "stderr",
          "text": [
            "100%|██████████| 251/251 [00:26<00:00,  9.44it/s]\n"
          ]
        },
        {
          "output_type": "stream",
          "name": "stdout",
          "text": [
            "Epoch: 17, train loss: train_loss=0.543, validation loss val_loss=0.565\n",
            "Perfomance 27376\n",
            "Accuracy: 0.8312218189239502\n"
          ]
        },
        {
          "output_type": "stream",
          "name": "stderr",
          "text": [
            "100%|██████████| 251/251 [00:23<00:00, 10.60it/s]\n"
          ]
        },
        {
          "output_type": "stream",
          "name": "stdout",
          "text": [
            "Epoch: 18, train loss: train_loss=0.536, validation loss val_loss=0.558\n",
            "Perfomance 27843\n",
            "Accuracy: 0.8331878185272217\n"
          ]
        },
        {
          "output_type": "stream",
          "name": "stderr",
          "text": [
            "100%|██████████| 251/251 [00:24<00:00, 10.20it/s]\n"
          ]
        },
        {
          "output_type": "stream",
          "name": "stdout",
          "text": [
            "Epoch: 19, train loss: train_loss=0.527, validation loss val_loss=0.550\n",
            "Perfomance 30824\n",
            "Accuracy: 0.8350003361701965\n"
          ]
        },
        {
          "output_type": "stream",
          "name": "stderr",
          "text": [
            "100%|██████████| 251/251 [00:23<00:00, 10.67it/s]\n"
          ]
        },
        {
          "output_type": "stream",
          "name": "stdout",
          "text": [
            "Epoch: 20, train loss: train_loss=0.531, validation loss val_loss=0.553\n",
            "Perfomance 42050\n",
            "Accuracy: 0.8350317478179932\n"
          ]
        },
        {
          "output_type": "stream",
          "name": "stderr",
          "text": [
            "100%|██████████| 251/251 [00:23<00:00, 10.55it/s]\n"
          ]
        },
        {
          "output_type": "stream",
          "name": "stdout",
          "text": [
            "Epoch: 21, train loss: train_loss=0.520, validation loss val_loss=0.545\n",
            "Perfomance 27489\n",
            "Accuracy: 0.8354443311691284\n"
          ]
        },
        {
          "output_type": "stream",
          "name": "stderr",
          "text": [
            "100%|██████████| 251/251 [00:24<00:00, 10.32it/s]\n"
          ]
        },
        {
          "output_type": "stream",
          "name": "stdout",
          "text": [
            "Epoch: 22, train loss: train_loss=0.522, validation loss val_loss=0.547\n",
            "Perfomance 27681\n",
            "Accuracy: 0.836622953414917\n"
          ]
        },
        {
          "output_type": "stream",
          "name": "stderr",
          "text": [
            "100%|██████████| 251/251 [00:23<00:00, 10.62it/s]\n"
          ]
        },
        {
          "output_type": "stream",
          "name": "stdout",
          "text": [
            "Epoch: 23, train loss: train_loss=0.523, validation loss val_loss=0.548\n",
            "Perfomance 27833\n",
            "Accuracy: 0.8371290564537048\n"
          ]
        },
        {
          "output_type": "stream",
          "name": "stderr",
          "text": [
            "100%|██████████| 251/251 [00:26<00:00,  9.65it/s]\n"
          ]
        },
        {
          "output_type": "stream",
          "name": "stdout",
          "text": [
            "Epoch: 24, train loss: train_loss=0.512, validation loss val_loss=0.538\n",
            "Perfomance 28074\n",
            "Accuracy: 0.8373546004295349\n"
          ]
        },
        {
          "output_type": "stream",
          "name": "stderr",
          "text": [
            "100%|██████████| 251/251 [00:22<00:00, 10.93it/s]\n"
          ]
        },
        {
          "output_type": "stream",
          "name": "stdout",
          "text": [
            "Epoch: 25, train loss: train_loss=0.519, validation loss val_loss=0.544\n",
            "Perfomance 36739\n",
            "Accuracy: 0.8351687788963318\n"
          ]
        },
        {
          "output_type": "stream",
          "name": "stderr",
          "text": [
            "100%|██████████| 251/251 [00:24<00:00, 10.44it/s]\n"
          ]
        },
        {
          "output_type": "stream",
          "name": "stdout",
          "text": [
            "Epoch: 26, train loss: train_loss=0.511, validation loss val_loss=0.538\n",
            "Perfomance 34282\n",
            "Accuracy: 0.8376437425613403\n"
          ]
        },
        {
          "output_type": "stream",
          "name": "stderr",
          "text": [
            "100%|██████████| 251/251 [00:24<00:00, 10.33it/s]\n"
          ]
        },
        {
          "output_type": "stream",
          "name": "stdout",
          "text": [
            "Epoch: 27, train loss: train_loss=0.506, validation loss val_loss=0.534\n",
            "Perfomance 39344\n",
            "Accuracy: 0.8401679396629333\n"
          ]
        },
        {
          "output_type": "stream",
          "name": "stderr",
          "text": [
            "100%|██████████| 251/251 [00:25<00:00,  9.87it/s]\n"
          ]
        },
        {
          "output_type": "stream",
          "name": "stdout",
          "text": [
            "Epoch: 28, train loss: train_loss=0.500, validation loss val_loss=0.527\n",
            "Perfomance 27989\n",
            "Accuracy: 0.8414642810821533\n"
          ]
        },
        {
          "output_type": "stream",
          "name": "stderr",
          "text": [
            "100%|██████████| 251/251 [00:25<00:00, 10.01it/s]\n"
          ]
        },
        {
          "output_type": "stream",
          "name": "stdout",
          "text": [
            "Epoch: 29, train loss: train_loss=0.500, validation loss val_loss=0.528\n",
            "Perfomance 27730\n",
            "Accuracy: 0.8407633304595947\n"
          ]
        },
        {
          "output_type": "stream",
          "name": "stderr",
          "text": [
            "100%|██████████| 251/251 [00:24<00:00, 10.13it/s]\n"
          ]
        },
        {
          "output_type": "stream",
          "name": "stdout",
          "text": [
            "Epoch: 30, train loss: train_loss=0.509, validation loss val_loss=0.538\n",
            "Perfomance 27821\n",
            "Accuracy: 0.8389922380447388\n"
          ]
        },
        {
          "output_type": "stream",
          "name": "stderr",
          "text": [
            "100%|██████████| 251/251 [00:26<00:00,  9.63it/s]\n"
          ]
        },
        {
          "output_type": "stream",
          "name": "stdout",
          "text": [
            "Epoch: 31, train loss: train_loss=0.500, validation loss val_loss=0.530\n",
            "Perfomance 28145\n",
            "Accuracy: 0.8395975828170776\n"
          ]
        },
        {
          "output_type": "stream",
          "name": "stderr",
          "text": [
            "100%|██████████| 251/251 [00:23<00:00, 10.55it/s]\n"
          ]
        },
        {
          "output_type": "stream",
          "name": "stdout",
          "text": [
            "Epoch: 32, train loss: train_loss=0.493, validation loss val_loss=0.523\n",
            "Perfomance 30057\n",
            "Accuracy: 0.8409474492073059\n"
          ]
        },
        {
          "output_type": "stream",
          "name": "stderr",
          "text": [
            "100%|██████████| 251/251 [00:24<00:00, 10.29it/s]\n"
          ]
        },
        {
          "output_type": "stream",
          "name": "stdout",
          "text": [
            "Epoch: 33, train loss: train_loss=0.488, validation loss val_loss=0.520\n",
            "Perfomance 36958\n",
            "Accuracy: 0.8442897796630859\n"
          ]
        },
        {
          "output_type": "stream",
          "name": "stderr",
          "text": [
            "100%|██████████| 251/251 [00:23<00:00, 10.64it/s]\n"
          ]
        },
        {
          "output_type": "stream",
          "name": "stdout",
          "text": [
            "Epoch: 34, train loss: train_loss=0.494, validation loss val_loss=0.524\n",
            "Perfomance 37463\n",
            "Accuracy: 0.8438493609428406\n"
          ]
        },
        {
          "output_type": "stream",
          "name": "stderr",
          "text": [
            "100%|██████████| 251/251 [00:23<00:00, 10.90it/s]\n"
          ]
        },
        {
          "output_type": "stream",
          "name": "stdout",
          "text": [
            "Epoch: 35, train loss: train_loss=0.489, validation loss val_loss=0.520\n",
            "Perfomance 32362\n",
            "Accuracy: 0.8421853184700012\n"
          ]
        },
        {
          "output_type": "stream",
          "name": "stderr",
          "text": [
            "100%|██████████| 251/251 [00:24<00:00, 10.17it/s]\n"
          ]
        },
        {
          "output_type": "stream",
          "name": "stdout",
          "text": [
            "Epoch: 36, train loss: train_loss=0.490, validation loss val_loss=0.520\n",
            "Perfomance 28093\n",
            "Accuracy: 0.8435474038124084\n"
          ]
        },
        {
          "output_type": "stream",
          "name": "stderr",
          "text": [
            "100%|██████████| 251/251 [00:24<00:00, 10.36it/s]\n"
          ]
        },
        {
          "output_type": "stream",
          "name": "stdout",
          "text": [
            "Epoch: 37, train loss: train_loss=0.485, validation loss val_loss=0.516\n",
            "Perfomance 28440\n",
            "Accuracy: 0.8450164794921875\n"
          ]
        },
        {
          "output_type": "stream",
          "name": "stderr",
          "text": [
            "100%|██████████| 251/251 [00:26<00:00,  9.49it/s]\n"
          ]
        },
        {
          "output_type": "stream",
          "name": "stdout",
          "text": [
            "Epoch: 38, train loss: train_loss=0.488, validation loss val_loss=0.521\n",
            "Perfomance 27967\n",
            "Accuracy: 0.8417206406593323\n"
          ]
        },
        {
          "output_type": "stream",
          "name": "stderr",
          "text": [
            "100%|██████████| 251/251 [00:24<00:00, 10.40it/s]\n"
          ]
        },
        {
          "output_type": "stream",
          "name": "stdout",
          "text": [
            "Epoch: 39, train loss: train_loss=0.483, validation loss val_loss=0.515\n",
            "Perfomance 27882\n",
            "Accuracy: 0.8444211483001709\n"
          ]
        },
        {
          "output_type": "stream",
          "name": "stderr",
          "text": [
            "100%|██████████| 251/251 [00:24<00:00, 10.14it/s]\n"
          ]
        },
        {
          "output_type": "stream",
          "name": "stdout",
          "text": [
            "Epoch: 40, train loss: train_loss=0.482, validation loss val_loss=0.514\n",
            "Perfomance 28095\n",
            "Accuracy: 0.844653844833374\n"
          ]
        },
        {
          "output_type": "stream",
          "name": "stderr",
          "text": [
            "100%|██████████| 251/251 [00:23<00:00, 10.54it/s]\n"
          ]
        },
        {
          "output_type": "stream",
          "name": "stdout",
          "text": [
            "Epoch: 41, train loss: train_loss=0.480, validation loss val_loss=0.515\n",
            "Perfomance 28056\n",
            "Accuracy: 0.8458852767944336\n"
          ]
        },
        {
          "output_type": "stream",
          "name": "stderr",
          "text": [
            "100%|██████████| 251/251 [00:23<00:00, 10.69it/s]\n"
          ]
        },
        {
          "output_type": "stream",
          "name": "stdout",
          "text": [
            "Epoch: 42, train loss: train_loss=0.487, validation loss val_loss=0.523\n",
            "Perfomance 36487\n",
            "Accuracy: 0.8451935648918152\n"
          ]
        },
        {
          "output_type": "stream",
          "name": "stderr",
          "text": [
            "100%|██████████| 251/251 [00:24<00:00, 10.36it/s]\n"
          ]
        },
        {
          "output_type": "stream",
          "name": "stdout",
          "text": [
            "Epoch: 43, train loss: train_loss=0.477, validation loss val_loss=0.511\n",
            "Perfomance 36982\n",
            "Accuracy: 0.8448337316513062\n"
          ]
        },
        {
          "output_type": "stream",
          "name": "stderr",
          "text": [
            "100%|██████████| 251/251 [00:23<00:00, 10.58it/s]\n"
          ]
        },
        {
          "output_type": "stream",
          "name": "stdout",
          "text": [
            "Epoch: 44, train loss: train_loss=0.478, validation loss val_loss=0.511\n",
            "Perfomance 31795\n",
            "Accuracy: 0.8473415374755859\n"
          ]
        },
        {
          "output_type": "stream",
          "name": "stderr",
          "text": [
            "100%|██████████| 251/251 [00:25<00:00,  9.67it/s]\n"
          ]
        },
        {
          "output_type": "stream",
          "name": "stdout",
          "text": [
            "Epoch: 45, train loss: train_loss=0.484, validation loss val_loss=0.517\n",
            "Perfomance 27651\n",
            "Accuracy: 0.8460637331008911\n"
          ]
        },
        {
          "output_type": "stream",
          "name": "stderr",
          "text": [
            "100%|██████████| 251/251 [00:25<00:00,  9.98it/s]\n"
          ]
        },
        {
          "output_type": "stream",
          "name": "stdout",
          "text": [
            "Epoch: 46, train loss: train_loss=0.473, validation loss val_loss=0.509\n",
            "Perfomance 27780\n",
            "Accuracy: 0.8480325937271118\n"
          ]
        },
        {
          "output_type": "stream",
          "name": "stderr",
          "text": [
            "100%|██████████| 251/251 [00:25<00:00,  9.90it/s]\n"
          ]
        },
        {
          "output_type": "stream",
          "name": "stdout",
          "text": [
            "Epoch: 47, train loss: train_loss=0.469, validation loss val_loss=0.505\n",
            "Perfomance 27931\n",
            "Accuracy: 0.8486692905426025\n"
          ]
        },
        {
          "output_type": "stream",
          "name": "stderr",
          "text": [
            "100%|██████████| 251/251 [00:24<00:00, 10.05it/s]\n"
          ]
        },
        {
          "output_type": "stream",
          "name": "stdout",
          "text": [
            "Epoch: 48, train loss: train_loss=0.466, validation loss val_loss=0.502\n",
            "Perfomance 28640\n",
            "Accuracy: 0.8496937155723572\n"
          ]
        },
        {
          "output_type": "stream",
          "name": "stderr",
          "text": [
            "100%|██████████| 251/251 [00:24<00:00, 10.34it/s]\n"
          ]
        },
        {
          "output_type": "stream",
          "name": "stdout",
          "text": [
            "Epoch: 49, train loss: train_loss=0.467, validation loss val_loss=0.502\n",
            "Perfomance 27891\n",
            "Accuracy: 0.8495302200317383\n"
          ]
        }
      ],
      "source": [
        "emb_history = []\n",
        "lstm_val_accuracy_history = []\n",
        "lstm_val_loss_history = []\n",
        "lstm_val_perfomance_history = []\n",
        "lstm_train_loss_history = []\n",
        "lstm_train_accuracy_history = []\n",
        "best_val_acc = 0.0\n",
        "\n",
        "for epoch in range(n_epochs):\n",
        "    lstm_net.train()\n",
        "    for X_batch, y_batch in tqdm(train_dataloader):\n",
        "        lstm_optimizer.zero_grad()\n",
        "        pred = lstm_net(X_batch)\n",
        "        loss = loss_f(pred, y_batch)\n",
        "        loss.backward()\n",
        "        lstm_optimizer.step()\n",
        "\n",
        "\n",
        "    if epoch % 1 == 0 or epoch == n_epochs:\n",
        "        train_loss, train_acc, _ = compute_loss_accuracy_perfomance(loss_f, lstm_net, train_dataloader)\n",
        "        val_loss, val_acc, val_perf = compute_loss_accuracy_perfomance(loss_f, lstm_net, val_dataloader)\n",
        "        print(f\"Epoch: {epoch}, train loss: {train_loss=:.3f}, validation loss {val_loss=:.3f}\")\n",
        "        print(f'Perfomance {val_perf}')\n",
        "        print(f'Accuracy: {val_acc}')\n",
        "        lstm_train_loss_history.append(train_loss)\n",
        "        lstm_train_accuracy_history.append(train_acc)\n",
        "        lstm_val_loss_history.append(val_loss)\n",
        "        lstm_val_accuracy_history.append(val_acc)\n",
        "        lstm_val_perfomance_history.append(val_perf)\n",
        "\n",
        "        if (val_acc > best_val_acc):\n",
        "            best_val_acc = val_acc\n",
        "            torch.save(lstm_net.state_dict(), 'best-model-syscall-prediction-lstm.pt')\n",
        "\n",
        "\n",
        "    # # Prepare DataFrame\n",
        "\n",
        "    # weights = lstm_net.embedding.weight.detach().clone().numpy()[:len(syscalldataset.vocabulary)]\n",
        "\n",
        "    # df = pd.DataFrame(weights, columns=[f\"dim_{i}\" for i in range(embedding_dim)])\n",
        "    # df[\"epoch\"] = epoch\n",
        "    # df[\"token\"] = syscalldataset.vocabulary\n",
        "\n",
        "    # emb_history.append(df)"
      ]
    },
    {
      "cell_type": "code",
      "source": [
        "# final_df = pd.concat(emb_history)\n",
        "# final_df.to_csv(\"emb.csv\", index=False)"
      ],
      "metadata": {
        "id": "lV8_tR9Y4gIB"
      },
      "execution_count": null,
      "outputs": []
    },
    {
      "cell_type": "markdown",
      "source": [
        "## Создание нейронной сети и оптимайзера\n"
      ],
      "metadata": {
        "id": "nhCcgW0DAZfn"
      }
    },
    {
      "cell_type": "code",
      "source": [
        "token_size = 500 # максимальное количество токенов\n",
        "embedding_dim = 4\n",
        "hidden_size = 16\n",
        "max_norm = 2\n",
        "rnn_num_layers=1\n",
        "lr = 3e-3\n",
        "\n",
        "net = SyscallNetwork(\n",
        "        syscalldataset.token_size,\n",
        "        len(syscalldataset.syscalls_name),\n",
        "        embedding_dim=embedding_dim,\n",
        "        max_norm=max_norm,\n",
        ")\n",
        "\n",
        "optimizer = torch.optim.Adam(\n",
        "        net.parameters(),\n",
        "        lr=lr,\n",
        ")"
      ],
      "metadata": {
        "id": "sYGbqKitAU9r"
      },
      "execution_count": null,
      "outputs": []
    },
    {
      "cell_type": "markdown",
      "source": [
        "## Обучение нейронной сети и сохранение лучшей модели"
      ],
      "metadata": {
        "id": "7Ck45dtqAdAg"
      }
    },
    {
      "cell_type": "code",
      "source": [
        "emb_history = []\n",
        "val_accuracy_history = []\n",
        "val_loss_history = []\n",
        "val_perfomance_history = []\n",
        "train_loss_history = []\n",
        "train_accuracy_history = []\n",
        "best_val_acc = 0.0\n",
        "\n",
        "for epoch in range(n_epochs):\n",
        "    net.train()\n",
        "    for X_batch, y_batch in tqdm(train_dataloader):\n",
        "        optimizer.zero_grad()\n",
        "        pred = net(X_batch)\n",
        "        loss = loss_f(pred, y_batch)\n",
        "        loss.backward()\n",
        "        optimizer.step()\n",
        "\n",
        "\n",
        "    if epoch % 1 == 0 or epoch == n_epochs:\n",
        "        train_loss, train_acc, _ = compute_loss_accuracy_perfomance(loss_f, net, train_dataloader)\n",
        "        val_loss, val_acc, val_perf = compute_loss_accuracy_perfomance(loss_f, net, val_dataloader)\n",
        "        print(f\"Epoch: {epoch}, train loss: {train_loss=:.3f}, validation loss {val_loss=:.3f}\")\n",
        "        print(f'Perfomance {val_perf}')\n",
        "        print(f'Accuracy: {val_acc}')\n",
        "        train_loss_history.append(train_loss)\n",
        "        train_accuracy_history.append(train_acc)\n",
        "        val_loss_history.append(val_loss)\n",
        "        val_accuracy_history.append(val_acc)\n",
        "        val_perfomance_history.append(val_perf)\n",
        "\n",
        "        if (val_acc > best_val_acc):\n",
        "            best_val_acc = val_acc\n",
        "            torch.save(net.state_dict(), 'best-model-syscall-prediction.pt')\n",
        "\n",
        "\n",
        "#     # Prepare DataFrame\n",
        "\n",
        "#     weights = net.embedding.weight.detach().clone().numpy()[:len(syscalldataset.vocabulary)]\n",
        "\n",
        "#     df = pd.DataFrame(weights, columns=[f\"dim_{i}\" for i in range(embedding_dim)])\n",
        "#     df[\"epoch\"] = epoch\n",
        "#     df[\"token\"] = syscalldataset.vocabulary\n",
        "\n",
        "#     emb_history.append(df)\n",
        "\n",
        "# final_df = pd.concat(emb_history)\n",
        "# final_df.to_csv(\"emb.csv\", index=False)"
      ],
      "metadata": {
        "id": "r__UBPxJAccR",
        "colab": {
          "base_uri": "https://localhost:8080/"
        },
        "outputId": "bc160f7c-337a-4854-ce65-31a5722c5101"
      },
      "execution_count": null,
      "outputs": [
        {
          "output_type": "stream",
          "name": "stderr",
          "text": [
            "100%|██████████| 251/251 [00:10<00:00, 23.87it/s]\n"
          ]
        },
        {
          "output_type": "stream",
          "name": "stdout",
          "text": [
            "Epoch: 0, train loss: train_loss=1.017, validation loss val_loss=1.023\n",
            "Perfomance 2948\n",
            "Accuracy: 0.7084163427352905\n"
          ]
        },
        {
          "output_type": "stream",
          "name": "stderr",
          "text": [
            "100%|██████████| 251/251 [00:10<00:00, 23.47it/s]\n"
          ]
        },
        {
          "output_type": "stream",
          "name": "stdout",
          "text": [
            "Epoch: 1, train loss: train_loss=0.794, validation loss val_loss=0.806\n",
            "Perfomance 4920\n",
            "Accuracy: 0.7682992815971375\n"
          ]
        },
        {
          "output_type": "stream",
          "name": "stderr",
          "text": [
            "100%|██████████| 251/251 [00:08<00:00, 30.22it/s]\n"
          ]
        },
        {
          "output_type": "stream",
          "name": "stdout",
          "text": [
            "Epoch: 2, train loss: train_loss=0.718, validation loss val_loss=0.734\n",
            "Perfomance 3018\n",
            "Accuracy: 0.7869167923927307\n"
          ]
        },
        {
          "output_type": "stream",
          "name": "stderr",
          "text": [
            "100%|██████████| 251/251 [00:10<00:00, 23.35it/s]\n"
          ]
        },
        {
          "output_type": "stream",
          "name": "stdout",
          "text": [
            "Epoch: 3, train loss: train_loss=0.677, validation loss val_loss=0.693\n",
            "Perfomance 2983\n",
            "Accuracy: 0.7970829010009766\n"
          ]
        },
        {
          "output_type": "stream",
          "name": "stderr",
          "text": [
            "100%|██████████| 251/251 [00:10<00:00, 24.81it/s]\n"
          ]
        },
        {
          "output_type": "stream",
          "name": "stdout",
          "text": [
            "Epoch: 4, train loss: train_loss=0.650, validation loss val_loss=0.669\n",
            "Perfomance 2901\n",
            "Accuracy: 0.8037917613983154\n"
          ]
        },
        {
          "output_type": "stream",
          "name": "stderr",
          "text": [
            "100%|██████████| 251/251 [00:09<00:00, 25.83it/s]\n"
          ]
        },
        {
          "output_type": "stream",
          "name": "stdout",
          "text": [
            "Epoch: 5, train loss: train_loss=0.633, validation loss val_loss=0.652\n",
            "Perfomance 2896\n",
            "Accuracy: 0.8076487183570862\n"
          ]
        },
        {
          "output_type": "stream",
          "name": "stderr",
          "text": [
            "100%|██████████| 251/251 [00:10<00:00, 24.90it/s]\n"
          ]
        },
        {
          "output_type": "stream",
          "name": "stdout",
          "text": [
            "Epoch: 6, train loss: train_loss=0.618, validation loss val_loss=0.638\n",
            "Perfomance 3487\n",
            "Accuracy: 0.8136765956878662\n"
          ]
        },
        {
          "output_type": "stream",
          "name": "stderr",
          "text": [
            "100%|██████████| 251/251 [00:10<00:00, 24.25it/s]\n"
          ]
        },
        {
          "output_type": "stream",
          "name": "stdout",
          "text": [
            "Epoch: 7, train loss: train_loss=0.608, validation loss val_loss=0.631\n",
            "Perfomance 3013\n",
            "Accuracy: 0.8150971531867981\n"
          ]
        },
        {
          "output_type": "stream",
          "name": "stderr",
          "text": [
            "100%|██████████| 251/251 [00:08<00:00, 28.17it/s]\n"
          ]
        },
        {
          "output_type": "stream",
          "name": "stdout",
          "text": [
            "Epoch: 8, train loss: train_loss=0.601, validation loss val_loss=0.624\n",
            "Perfomance 3084\n",
            "Accuracy: 0.8167526125907898\n"
          ]
        },
        {
          "output_type": "stream",
          "name": "stderr",
          "text": [
            "100%|██████████| 251/251 [00:10<00:00, 23.24it/s]\n"
          ]
        },
        {
          "output_type": "stream",
          "name": "stdout",
          "text": [
            "Epoch: 9, train loss: train_loss=0.594, validation loss val_loss=0.618\n",
            "Perfomance 4667\n",
            "Accuracy: 0.8166255354881287\n"
          ]
        },
        {
          "output_type": "stream",
          "name": "stderr",
          "text": [
            "100%|██████████| 251/251 [00:09<00:00, 26.12it/s]\n"
          ]
        },
        {
          "output_type": "stream",
          "name": "stdout",
          "text": [
            "Epoch: 10, train loss: train_loss=0.589, validation loss val_loss=0.615\n",
            "Perfomance 3189\n",
            "Accuracy: 0.8198571801185608\n"
          ]
        },
        {
          "output_type": "stream",
          "name": "stderr",
          "text": [
            "100%|██████████| 251/251 [00:10<00:00, 24.48it/s]\n"
          ]
        },
        {
          "output_type": "stream",
          "name": "stdout",
          "text": [
            "Epoch: 11, train loss: train_loss=0.584, validation loss val_loss=0.610\n",
            "Perfomance 4832\n",
            "Accuracy: 0.8213962316513062\n"
          ]
        },
        {
          "output_type": "stream",
          "name": "stderr",
          "text": [
            "100%|██████████| 251/251 [00:10<00:00, 24.09it/s]\n"
          ]
        },
        {
          "output_type": "stream",
          "name": "stdout",
          "text": [
            "Epoch: 12, train loss: train_loss=0.581, validation loss val_loss=0.605\n",
            "Perfomance 4864\n",
            "Accuracy: 0.8197400569915771\n"
          ]
        },
        {
          "output_type": "stream",
          "name": "stderr",
          "text": [
            "100%|██████████| 251/251 [00:09<00:00, 27.34it/s]\n"
          ]
        },
        {
          "output_type": "stream",
          "name": "stdout",
          "text": [
            "Epoch: 13, train loss: train_loss=0.576, validation loss val_loss=0.602\n",
            "Perfomance 2977\n",
            "Accuracy: 0.823040246963501\n"
          ]
        },
        {
          "output_type": "stream",
          "name": "stderr",
          "text": [
            "100%|██████████| 251/251 [00:10<00:00, 23.24it/s]\n"
          ]
        },
        {
          "output_type": "stream",
          "name": "stdout",
          "text": [
            "Epoch: 14, train loss: train_loss=0.573, validation loss val_loss=0.599\n",
            "Perfomance 3116\n",
            "Accuracy: 0.8213648796081543\n"
          ]
        },
        {
          "output_type": "stream",
          "name": "stderr",
          "text": [
            "100%|██████████| 251/251 [00:09<00:00, 25.58it/s]\n"
          ]
        },
        {
          "output_type": "stream",
          "name": "stdout",
          "text": [
            "Epoch: 15, train loss: train_loss=0.570, validation loss val_loss=0.597\n",
            "Perfomance 4137\n",
            "Accuracy: 0.822324275970459\n"
          ]
        },
        {
          "output_type": "stream",
          "name": "stderr",
          "text": [
            "100%|██████████| 251/251 [00:09<00:00, 27.04it/s]\n"
          ]
        },
        {
          "output_type": "stream",
          "name": "stdout",
          "text": [
            "Epoch: 16, train loss: train_loss=0.567, validation loss val_loss=0.594\n",
            "Perfomance 2981\n",
            "Accuracy: 0.8225576877593994\n"
          ]
        },
        {
          "output_type": "stream",
          "name": "stderr",
          "text": [
            "100%|██████████| 251/251 [00:10<00:00, 25.08it/s]\n"
          ]
        },
        {
          "output_type": "stream",
          "name": "stdout",
          "text": [
            "Epoch: 17, train loss: train_loss=0.564, validation loss val_loss=0.591\n",
            "Perfomance 2874\n",
            "Accuracy: 0.82567298412323\n"
          ]
        },
        {
          "output_type": "stream",
          "name": "stderr",
          "text": [
            "100%|██████████| 251/251 [00:10<00:00, 24.08it/s]\n"
          ]
        },
        {
          "output_type": "stream",
          "name": "stdout",
          "text": [
            "Epoch: 18, train loss: train_loss=0.562, validation loss val_loss=0.591\n",
            "Perfomance 3172\n",
            "Accuracy: 0.8235735297203064\n"
          ]
        },
        {
          "output_type": "stream",
          "name": "stderr",
          "text": [
            "100%|██████████| 251/251 [00:10<00:00, 23.16it/s]\n"
          ]
        },
        {
          "output_type": "stream",
          "name": "stdout",
          "text": [
            "Epoch: 19, train loss: train_loss=0.561, validation loss val_loss=0.589\n",
            "Perfomance 2951\n",
            "Accuracy: 0.8230903148651123\n"
          ]
        },
        {
          "output_type": "stream",
          "name": "stderr",
          "text": [
            "100%|██████████| 251/251 [00:10<00:00, 23.83it/s]\n"
          ]
        },
        {
          "output_type": "stream",
          "name": "stdout",
          "text": [
            "Epoch: 20, train loss: train_loss=0.559, validation loss val_loss=0.588\n",
            "Perfomance 4023\n",
            "Accuracy: 0.8254953026771545\n"
          ]
        },
        {
          "output_type": "stream",
          "name": "stderr",
          "text": [
            "100%|██████████| 251/251 [00:09<00:00, 25.16it/s]\n"
          ]
        },
        {
          "output_type": "stream",
          "name": "stdout",
          "text": [
            "Epoch: 21, train loss: train_loss=0.556, validation loss val_loss=0.585\n",
            "Perfomance 2878\n",
            "Accuracy: 0.8254895806312561\n"
          ]
        },
        {
          "output_type": "stream",
          "name": "stderr",
          "text": [
            "100%|██████████| 251/251 [00:08<00:00, 28.21it/s]\n"
          ]
        },
        {
          "output_type": "stream",
          "name": "stdout",
          "text": [
            "Epoch: 22, train loss: train_loss=0.557, validation loss val_loss=0.586\n",
            "Perfomance 2896\n",
            "Accuracy: 0.8255559206008911\n"
          ]
        },
        {
          "output_type": "stream",
          "name": "stderr",
          "text": [
            "100%|██████████| 251/251 [00:10<00:00, 23.97it/s]\n"
          ]
        },
        {
          "output_type": "stream",
          "name": "stdout",
          "text": [
            "Epoch: 23, train loss: train_loss=0.554, validation loss val_loss=0.584\n",
            "Perfomance 4252\n",
            "Accuracy: 0.8266217708587646\n"
          ]
        },
        {
          "output_type": "stream",
          "name": "stderr",
          "text": [
            "100%|██████████| 251/251 [00:09<00:00, 26.63it/s]\n"
          ]
        },
        {
          "output_type": "stream",
          "name": "stdout",
          "text": [
            "Epoch: 24, train loss: train_loss=0.552, validation loss val_loss=0.582\n",
            "Perfomance 2905\n",
            "Accuracy: 0.8268537521362305\n"
          ]
        },
        {
          "output_type": "stream",
          "name": "stderr",
          "text": [
            "100%|██████████| 251/251 [00:09<00:00, 25.32it/s]\n"
          ]
        },
        {
          "output_type": "stream",
          "name": "stdout",
          "text": [
            "Epoch: 25, train loss: train_loss=0.551, validation loss val_loss=0.581\n",
            "Perfomance 2943\n",
            "Accuracy: 0.8276810646057129\n"
          ]
        },
        {
          "output_type": "stream",
          "name": "stderr",
          "text": [
            "100%|██████████| 251/251 [00:09<00:00, 25.45it/s]\n"
          ]
        },
        {
          "output_type": "stream",
          "name": "stdout",
          "text": [
            "Epoch: 26, train loss: train_loss=0.548, validation loss val_loss=0.579\n",
            "Perfomance 4267\n",
            "Accuracy: 0.829549252986908\n"
          ]
        },
        {
          "output_type": "stream",
          "name": "stderr",
          "text": [
            "100%|██████████| 251/251 [00:09<00:00, 26.89it/s]\n"
          ]
        },
        {
          "output_type": "stream",
          "name": "stdout",
          "text": [
            "Epoch: 27, train loss: train_loss=0.551, validation loss val_loss=0.581\n",
            "Perfomance 2901\n",
            "Accuracy: 0.8253517746925354\n"
          ]
        },
        {
          "output_type": "stream",
          "name": "stderr",
          "text": [
            "100%|██████████| 251/251 [00:10<00:00, 24.01it/s]\n"
          ]
        },
        {
          "output_type": "stream",
          "name": "stdout",
          "text": [
            "Epoch: 28, train loss: train_loss=0.547, validation loss val_loss=0.578\n",
            "Perfomance 3127\n",
            "Accuracy: 0.8279630541801453\n"
          ]
        },
        {
          "output_type": "stream",
          "name": "stderr",
          "text": [
            "100%|██████████| 251/251 [00:10<00:00, 23.56it/s]\n"
          ]
        },
        {
          "output_type": "stream",
          "name": "stdout",
          "text": [
            "Epoch: 29, train loss: train_loss=0.545, validation loss val_loss=0.577\n",
            "Perfomance 4401\n",
            "Accuracy: 0.8261834383010864\n"
          ]
        },
        {
          "output_type": "stream",
          "name": "stderr",
          "text": [
            "100%|██████████| 251/251 [00:09<00:00, 26.64it/s]\n"
          ]
        },
        {
          "output_type": "stream",
          "name": "stdout",
          "text": [
            "Epoch: 30, train loss: train_loss=0.546, validation loss val_loss=0.578\n",
            "Perfomance 2931\n",
            "Accuracy: 0.8285084962844849\n"
          ]
        },
        {
          "output_type": "stream",
          "name": "stderr",
          "text": [
            "100%|██████████| 251/251 [00:09<00:00, 26.40it/s]\n"
          ]
        },
        {
          "output_type": "stream",
          "name": "stdout",
          "text": [
            "Epoch: 31, train loss: train_loss=0.547, validation loss val_loss=0.578\n",
            "Perfomance 2983\n",
            "Accuracy: 0.8262562155723572\n"
          ]
        },
        {
          "output_type": "stream",
          "name": "stderr",
          "text": [
            "100%|██████████| 251/251 [00:10<00:00, 23.63it/s]\n"
          ]
        },
        {
          "output_type": "stream",
          "name": "stdout",
          "text": [
            "Epoch: 32, train loss: train_loss=0.544, validation loss val_loss=0.575\n",
            "Perfomance 4461\n",
            "Accuracy: 0.8293079733848572\n"
          ]
        },
        {
          "output_type": "stream",
          "name": "stderr",
          "text": [
            "100%|██████████| 251/251 [00:08<00:00, 29.63it/s]\n"
          ]
        },
        {
          "output_type": "stream",
          "name": "stdout",
          "text": [
            "Epoch: 33, train loss: train_loss=0.543, validation loss val_loss=0.575\n",
            "Perfomance 3053\n",
            "Accuracy: 0.8299054503440857\n"
          ]
        },
        {
          "output_type": "stream",
          "name": "stderr",
          "text": [
            "100%|██████████| 251/251 [00:12<00:00, 20.58it/s]\n"
          ]
        },
        {
          "output_type": "stream",
          "name": "stdout",
          "text": [
            "Epoch: 34, train loss: train_loss=0.542, validation loss val_loss=0.573\n",
            "Perfomance 3261\n",
            "Accuracy: 0.8287726044654846\n"
          ]
        },
        {
          "output_type": "stream",
          "name": "stderr",
          "text": [
            "100%|██████████| 251/251 [00:10<00:00, 23.47it/s]\n"
          ]
        },
        {
          "output_type": "stream",
          "name": "stdout",
          "text": [
            "Epoch: 35, train loss: train_loss=0.541, validation loss val_loss=0.575\n",
            "Perfomance 3098\n",
            "Accuracy: 0.8284428119659424\n"
          ]
        },
        {
          "output_type": "stream",
          "name": "stderr",
          "text": [
            "100%|██████████| 251/251 [00:08<00:00, 29.93it/s]\n"
          ]
        },
        {
          "output_type": "stream",
          "name": "stdout",
          "text": [
            "Epoch: 36, train loss: train_loss=0.541, validation loss val_loss=0.572\n",
            "Perfomance 2963\n",
            "Accuracy: 0.8273977041244507\n"
          ]
        },
        {
          "output_type": "stream",
          "name": "stderr",
          "text": [
            "100%|██████████| 251/251 [00:10<00:00, 23.57it/s]\n"
          ]
        },
        {
          "output_type": "stream",
          "name": "stdout",
          "text": [
            "Epoch: 37, train loss: train_loss=0.539, validation loss val_loss=0.572\n",
            "Perfomance 2949\n",
            "Accuracy: 0.8300532698631287\n"
          ]
        },
        {
          "output_type": "stream",
          "name": "stderr",
          "text": [
            "100%|██████████| 251/251 [00:10<00:00, 23.74it/s]\n"
          ]
        },
        {
          "output_type": "stream",
          "name": "stdout",
          "text": [
            "Epoch: 38, train loss: train_loss=0.541, validation loss val_loss=0.574\n",
            "Perfomance 2960\n",
            "Accuracy: 0.8283571004867554\n"
          ]
        },
        {
          "output_type": "stream",
          "name": "stderr",
          "text": [
            "100%|██████████| 251/251 [00:09<00:00, 27.83it/s]\n"
          ]
        },
        {
          "output_type": "stream",
          "name": "stdout",
          "text": [
            "Epoch: 39, train loss: train_loss=0.539, validation loss val_loss=0.572\n",
            "Perfomance 2918\n",
            "Accuracy: 0.8300204277038574\n"
          ]
        },
        {
          "output_type": "stream",
          "name": "stderr",
          "text": [
            "100%|██████████| 251/251 [00:10<00:00, 23.63it/s]\n"
          ]
        },
        {
          "output_type": "stream",
          "name": "stdout",
          "text": [
            "Epoch: 40, train loss: train_loss=0.537, validation loss val_loss=0.571\n",
            "Perfomance 3211\n",
            "Accuracy: 0.8307356834411621\n"
          ]
        },
        {
          "output_type": "stream",
          "name": "stderr",
          "text": [
            "100%|██████████| 251/251 [00:10<00:00, 24.89it/s]\n"
          ]
        },
        {
          "output_type": "stream",
          "name": "stdout",
          "text": [
            "Epoch: 41, train loss: train_loss=0.537, validation loss val_loss=0.571\n",
            "Perfomance 4518\n",
            "Accuracy: 0.8286390900611877\n"
          ]
        },
        {
          "output_type": "stream",
          "name": "stderr",
          "text": [
            "100%|██████████| 251/251 [00:10<00:00, 23.38it/s]\n"
          ]
        },
        {
          "output_type": "stream",
          "name": "stdout",
          "text": [
            "Epoch: 42, train loss: train_loss=0.537, validation loss val_loss=0.569\n",
            "Perfomance 2825\n",
            "Accuracy: 0.8294250965118408\n"
          ]
        },
        {
          "output_type": "stream",
          "name": "stderr",
          "text": [
            "100%|██████████| 251/251 [00:09<00:00, 25.41it/s]\n"
          ]
        },
        {
          "output_type": "stream",
          "name": "stdout",
          "text": [
            "Epoch: 43, train loss: train_loss=0.536, validation loss val_loss=0.569\n",
            "Perfomance 4047\n",
            "Accuracy: 0.8292858600616455\n"
          ]
        },
        {
          "output_type": "stream",
          "name": "stderr",
          "text": [
            "100%|██████████| 251/251 [00:09<00:00, 25.56it/s]\n"
          ]
        },
        {
          "output_type": "stream",
          "name": "stdout",
          "text": [
            "Epoch: 44, train loss: train_loss=0.535, validation loss val_loss=0.569\n",
            "Perfomance 2910\n",
            "Accuracy: 0.8323097825050354\n"
          ]
        },
        {
          "output_type": "stream",
          "name": "stderr",
          "text": [
            "100%|██████████| 251/251 [00:08<00:00, 28.35it/s]\n"
          ]
        },
        {
          "output_type": "stream",
          "name": "stdout",
          "text": [
            "Epoch: 45, train loss: train_loss=0.535, validation loss val_loss=0.569\n",
            "Perfomance 2934\n",
            "Accuracy: 0.8315894603729248\n"
          ]
        },
        {
          "output_type": "stream",
          "name": "stderr",
          "text": [
            "100%|██████████| 251/251 [00:10<00:00, 23.79it/s]\n"
          ]
        },
        {
          "output_type": "stream",
          "name": "stdout",
          "text": [
            "Epoch: 46, train loss: train_loss=0.534, validation loss val_loss=0.569\n",
            "Perfomance 4090\n",
            "Accuracy: 0.8289260864257812\n"
          ]
        },
        {
          "output_type": "stream",
          "name": "stderr",
          "text": [
            "100%|██████████| 251/251 [00:09<00:00, 26.74it/s]\n"
          ]
        },
        {
          "output_type": "stream",
          "name": "stdout",
          "text": [
            "Epoch: 47, train loss: train_loss=0.533, validation loss val_loss=0.568\n",
            "Perfomance 2992\n",
            "Accuracy: 0.8297913074493408\n"
          ]
        },
        {
          "output_type": "stream",
          "name": "stderr",
          "text": [
            "100%|██████████| 251/251 [00:09<00:00, 26.33it/s]\n"
          ]
        },
        {
          "output_type": "stream",
          "name": "stdout",
          "text": [
            "Epoch: 48, train loss: train_loss=0.535, validation loss val_loss=0.569\n",
            "Perfomance 2939\n",
            "Accuracy: 0.8303987979888916\n"
          ]
        },
        {
          "output_type": "stream",
          "name": "stderr",
          "text": [
            "100%|██████████| 251/251 [00:11<00:00, 21.29it/s]\n"
          ]
        },
        {
          "output_type": "stream",
          "name": "stdout",
          "text": [
            "Epoch: 49, train loss: train_loss=0.533, validation loss val_loss=0.567\n",
            "Perfomance 4660\n",
            "Accuracy: 0.8315680623054504\n"
          ]
        }
      ]
    },
    {
      "cell_type": "markdown",
      "metadata": {
        "id": "lHpbbK95I-vT"
      },
      "source": [
        "## Графики loss и accuracy"
      ]
    },
    {
      "cell_type": "code",
      "execution_count": null,
      "metadata": {
        "id": "eweSyM7FJf8K"
      },
      "outputs": [],
      "source": [
        "import matplotlib.pyplot as plt"
      ]
    },
    {
      "cell_type": "markdown",
      "source": [
        "### Графики BiLSTM"
      ],
      "metadata": {
        "id": "MhauT_ypxlkS"
      }
    },
    {
      "cell_type": "code",
      "source": [
        "fig, axes = plt.subplots(nrows=1, ncols=3, figsize=(15, 6))\n",
        "fig.tight_layout(pad=5.0)\n",
        "\n",
        "plt.subplot(1, 3, 1)\n",
        "plt.title(\"Loss\")\n",
        "plt.xlabel('Epoch')\n",
        "plt.ylabel('Loss')\n",
        "plt.grid(True)\n",
        "plt.plot(lstm_train_loss_history, color='blue', label='LSTM train')\n",
        "plt.plot(lstm_val_loss_history, color='orange', label='LSTM val')\n",
        "plt.legend()\n",
        "\n",
        "plt.subplot(1, 3, 2)\n",
        "plt.title(\"Accuracy\")\n",
        "plt.xlabel('Epoch')\n",
        "plt.ylabel('Accuracy')\n",
        "plt.grid(True)\n",
        "plt.plot(lstm_train_accuracy_history, color='blue', label='LSTM train')\n",
        "plt.plot(lstm_val_accuracy_history, color='orange', label='LSTM val')\n",
        "plt.legend()\n",
        "\n",
        "plt.subplot(1, 3, 3)\n",
        "plt.title(\"Perfomance\")\n",
        "plt.xlabel('Epoch')\n",
        "plt.ylabel('Perfomance, ns')\n",
        "plt.grid(True)\n",
        "plt.plot(lstm_val_perfomance_history, color='orange', label='lstm model perfomance')\n",
        "plt.axhline(y=np.nanmean(lstm_val_perfomance_history), color='darkred', linestyle='--', label='lstm mean perfomance')\n",
        "plt.text(-3.8, np.nanmean(lstm_val_perfomance_history), \"{:.0f}\".format(np.nanmean(lstm_val_perfomance_history)), color=\"darkred\",\n",
        "        ha=\"right\", va=\"center\")\n",
        "\n",
        "plt.legend()\n",
        "\n",
        "plt.show()"
      ],
      "metadata": {
        "id": "lEj9egLvxw4s",
        "colab": {
          "base_uri": "https://localhost:8080/",
          "height": 534
        },
        "outputId": "16d67c55-2ada-4129-c997-8ae9a2b223f6"
      },
      "execution_count": null,
      "outputs": [
        {
          "output_type": "display_data",
          "data": {
            "text/plain": [
              "<Figure size 1500x600 with 3 Axes>"
            ],
            "image/png": "[encoded data removed]"
          },
          "metadata": {}
        }
      ]
    },
    {
      "cell_type": "markdown",
      "metadata": {
        "id": "MAkNAptxkfqP"
      },
      "source": [
        "### Сравнение BiLSTM и обычной нейронных сетей"
      ]
    },
    {
      "cell_type": "code",
      "source": [
        "fig, axes = plt.subplots(nrows=1, ncols=3, figsize=(15, 6))\n",
        "fig.tight_layout(pad=5.0)\n",
        "\n",
        "plt.subplot(1, 3, 1)\n",
        "plt.title(\"Loss\")\n",
        "plt.xlabel('Epoch')\n",
        "plt.ylabel('Loss')\n",
        "plt.grid(True)\n",
        "plt.plot(lstm_train_loss_history, color='blue', label='LSTM train')\n",
        "plt.plot(lstm_val_loss_history, color='orange', label='LSTM val')\n",
        "plt.plot(train_loss_history, color='aqua', label='train')\n",
        "plt.plot(val_loss_history, color='blueviolet', label='val')\n",
        "plt.legend()\n",
        "\n",
        "plt.subplot(1, 3, 2)\n",
        "plt.title(\"Accuracy\")\n",
        "plt.xlabel('Epoch')\n",
        "plt.ylabel('Accuracy')\n",
        "plt.grid(True)\n",
        "plt.plot(lstm_train_accuracy_history, color='blue', label='LSTM train')\n",
        "plt.plot(lstm_val_accuracy_history, color='orange', label='LSTM val')\n",
        "plt.plot(train_accuracy_history, color='aqua', label='train')\n",
        "plt.plot(val_accuracy_history, color='blueviolet', label='val')\n",
        "plt.legend()\n",
        "\n",
        "plt.subplot(1, 3, 3)\n",
        "plt.title(\"Perfomance\")\n",
        "plt.xlabel('Epoch')\n",
        "plt.ylabel('Perfomance, ns')\n",
        "plt.grid(True)\n",
        "\n",
        "plt.plot(lstm_val_perfomance_history, color='orange', label='lstm model perfomance')\n",
        "plt.axhline(y=np.nanmean(lstm_val_perfomance_history), color='darkred', linestyle='--', label='lstm mean perfomance')\n",
        "plt.text(-3.8, np.nanmean(lstm_val_perfomance_history) + 700, \"{:.0f}\".format(np.nanmean(lstm_val_perfomance_history)), color=\"darkred\",\n",
        "        ha=\"right\", va=\"center\")\n",
        "\n",
        "\n",
        "plt.plot(val_perfomance_history, color='blueviolet', label='model perfomance')\n",
        "plt.axhline(y=np.nanmean(val_perfomance_history), color='red', linestyle='--', label='mean perfomance')\n",
        "plt.text(-3.8, np.nanmean(val_perfomance_history), \"{:.0f}\".format(np.nanmean(val_perfomance_history)), color=\"red\",\n",
        "        ha=\"right\", va=\"center\")\n",
        "\n",
        "plt.legend()\n",
        "plt.show()"
      ],
      "metadata": {
        "id": "YNlFJfSi3Yk6",
        "colab": {
          "base_uri": "https://localhost:8080/",
          "height": 534
        },
        "outputId": "8a5156c0-4f61-4285-96a9-a4117e664472"
      },
      "execution_count": null,
      "outputs": [
        {
          "output_type": "display_data",
          "data": {
            "text/plain": [
              "<Figure size 1500x600 with 3 Axes>"
            ],
            "image/png": "[encoded data removed]"
          },
          "metadata": {}
        }
      ]
    },
    {
      "cell_type": "code",
      "execution_count": null,
      "metadata": {
        "id": "qeoiX8TApX3X",
        "colab": {
          "base_uri": "https://localhost:8080/"
        },
        "outputId": "0462f6a2-240c-48ac-fed8-f3bd3555d1d5"
      },
      "outputs": [
        {
          "output_type": "stream",
          "name": "stdout",
          "text": [
            "LSTM mean perfomance  30436.8\n",
            "Mean perfomance  3406.12\n"
          ]
        }
      ],
      "source": [
        "print('LSTM mean perfomance ', np.nanmean(lstm_val_perfomance_history))\n",
        "print('Mean perfomance ', np.nanmean(val_perfomance_history))\n"
      ]
    },
    {
      "cell_type": "markdown",
      "metadata": {
        "id": "T6HQUE4uIFOv"
      },
      "source": [
        "### График embeddings"
      ]
    },
    {
      "cell_type": "code",
      "execution_count": null,
      "metadata": {
        "id": "WrNpyhUZISe2"
      },
      "outputs": [],
      "source": [
        "import plotly\n",
        "import plotly.graph_objects as go\n",
        "import plotly.express as px"
      ]
    },
    {
      "cell_type": "code",
      "execution_count": null,
      "metadata": {
        "id": "o7OjHzn9NZL6"
      },
      "outputs": [],
      "source": [
        "# df = pd.read_csv(\"emb.csv\")"
      ]
    },
    {
      "cell_type": "code",
      "execution_count": null,
      "metadata": {
        "id": "GS2DM6keIEgv"
      },
      "outputs": [],
      "source": [
        "# px.scatter(\n",
        "#     df,\n",
        "#     x='dim_0', y='dim_1',\n",
        "#     text = 'token',\n",
        "#     animation_frame='epoch',\n",
        "#     animation_group='token',\n",
        "#     # size='pop',\n",
        "#     # color='continent',\n",
        "#     hover_name='token'\n",
        "#     # log_x=True,\n",
        "#     # size_max=55,\n",
        "#     # range_x=[100, 100000], range_y=[25, 90]\n",
        "# )"
      ]
    },
    {
      "cell_type": "markdown",
      "metadata": {
        "id": "wDMKnwY6K6uD"
      },
      "source": [
        "### Результаты лучшей модели на тестовой выборке"
      ]
    },
    {
      "cell_type": "code",
      "execution_count": null,
      "metadata": {
        "id": "G9uDlVhRMjtF",
        "colab": {
          "base_uri": "https://localhost:8080/"
        },
        "outputId": "1196b14f-ecfb-4329-9098-07a03a28d0c9"
      },
      "outputs": [
        {
          "output_type": "stream",
          "name": "stdout",
          "text": [
            "Drive already mounted at /content/drive; to attempt to forcibly remount, call drive.mount(\"/content/drive\", force_remount=True).\n",
            "/content/drive/My Drive/Colab Notebooks/Diplom2024/Code/dataset\n"
          ]
        }
      ],
      "source": [
        "from google.colab import drive\n",
        "drive.mount('/content/drive')\n",
        "\n",
        "%cd /content/drive/My Drive/Colab Notebooks/Diplom2024/Code/dataset"
      ]
    },
    {
      "cell_type": "markdown",
      "source": [
        "## Лучшая BiLSTM модель"
      ],
      "metadata": {
        "id": "Pb-JqRjzD427"
      }
    },
    {
      "cell_type": "code",
      "execution_count": null,
      "metadata": {
        "id": "9x_3-Ze_LvP-",
        "colab": {
          "base_uri": "https://localhost:8080/"
        },
        "outputId": "67272ed8-4870-4df6-f383-3b3d688c2f69"
      },
      "outputs": [
        {
          "output_type": "execute_result",
          "data": {
            "text/plain": [
              "SyscallBiLSTMNetwork(\n",
              "  (embedding): Embedding(500, 4, padding_idx=0, max_norm=2)\n",
              "  (lstm): LSTM(4, 16, batch_first=True, bidirectional=True)\n",
              "  (linear): Linear(in_features=32, out_features=157, bias=True)\n",
              ")"
            ]
          },
          "metadata": {},
          "execution_count": 101
        }
      ],
      "source": [
        "import torch\n",
        "\n",
        "best_lstm_model = SyscallBiLSTMNetwork(\n",
        "        token_size=token_size,\n",
        "        syscalls_name_len=len(syscalldataset.syscalls_name),\n",
        "        embedding_dim=embedding_dim,\n",
        "        rnn_num_layers=rnn_num_layers,\n",
        "        hidden_size=hidden_size,\n",
        "        max_norm=max_norm,\n",
        ")\n",
        "\n",
        "best_lstm_model.load_state_dict(torch.load('best-model-syscall-prediction-lstm.pt'))\n",
        "best_lstm_model.eval()"
      ]
    },
    {
      "cell_type": "code",
      "source": [
        "train_loss, train_accuracy, train_perfomance = compute_loss_accuracy_perfomance(loss_f, best_lstm_model, train_dataloader)\n",
        "val_loss, val_accuracy, val_perfomance = compute_loss_accuracy_perfomance(loss_f, best_lstm_model, val_dataloader)\n",
        "test_loss, test_accuracy, test_perfomance = compute_loss_accuracy_perfomance(loss_f, best_lstm_model, test_dataloader)"
      ],
      "metadata": {
        "id": "lYBflJUOEKAq"
      },
      "execution_count": null,
      "outputs": []
    },
    {
      "cell_type": "code",
      "source": [
        "print('Train')\n",
        "print(f'Loss: {train_loss}')\n",
        "print(f'Accuracy: {int(train_accuracy * 100)}')\n",
        "print(f'Perfomance: {train_perfomance}')\n",
        "\n",
        "print('Validation')\n",
        "print(f'Loss: {val_loss}')\n",
        "print(f'Accuracy: {int(val_accuracy * 100)}')\n",
        "print(f'Perfomance: {val_perfomance}')\n",
        "\n",
        "print('Test')\n",
        "print(f'Loss: {test_loss}')\n",
        "print(f'Accuracy: {int(test_accuracy * 100)}')\n",
        "print(f'Perfomance: {test_perfomance}')"
      ],
      "metadata": {
        "id": "htLruOmSEQ65",
        "colab": {
          "base_uri": "https://localhost:8080/"
        },
        "outputId": "d12c925b-f140-4f4d-bcf8-c7c62a42f5e1"
      },
      "execution_count": null,
      "outputs": [
        {
          "output_type": "stream",
          "name": "stdout",
          "text": [
            "Train\n",
            "Loss: 0.4656812964207623\n",
            "Accuracy: 85\n",
            "Perfomance: 30598\n",
            "Validation\n",
            "Loss: 0.5021838057372305\n",
            "Accuracy: 84\n",
            "Perfomance: 27920\n",
            "Test\n",
            "Loss: 0.49763724870151943\n",
            "Accuracy: 84\n",
            "Perfomance: 27930\n"
          ]
        }
      ]
    },
    {
      "cell_type": "markdown",
      "source": [
        "## Лучшая модель"
      ],
      "metadata": {
        "id": "Yh_Mg5KDEACP"
      }
    },
    {
      "cell_type": "code",
      "source": [
        "best_model = SyscallNetwork(\n",
        "        syscalldataset.token_size,\n",
        "        len(syscalldataset.syscalls_name),\n",
        "        embedding_dim=embedding_dim,\n",
        "        max_norm=max_norm,\n",
        ")\n",
        "\n",
        "best_model.load_state_dict(torch.load('best-model-syscall-prediction.pt'))\n",
        "best_model.eval()"
      ],
      "metadata": {
        "id": "7sOHEQwsDjOF",
        "colab": {
          "base_uri": "https://localhost:8080/"
        },
        "outputId": "5a937b5e-0a66-4264-b813-8174286f171e"
      },
      "execution_count": null,
      "outputs": [
        {
          "output_type": "execute_result",
          "data": {
            "text/plain": [
              "SyscallNetwork(\n",
              "  (embedding): Embedding(500, 4, padding_idx=0, max_norm=2)\n",
              "  (linear): Linear(in_features=80, out_features=157, bias=True)\n",
              ")"
            ]
          },
          "metadata": {},
          "execution_count": 104
        }
      ]
    },
    {
      "cell_type": "code",
      "execution_count": null,
      "metadata": {
        "id": "HvtUI-kpXzj1"
      },
      "outputs": [],
      "source": [
        "train_loss, train_accuracy, train_perfomance = compute_loss_accuracy_perfomance(loss_f, best_model, train_dataloader)\n",
        "val_loss, val_accuracy, val_perfomance = compute_loss_accuracy_perfomance(loss_f, best_model, val_dataloader)\n",
        "test_loss, test_accuracy, test_perfomance = compute_loss_accuracy_perfomance(loss_f, best_model, test_dataloader)"
      ]
    },
    {
      "cell_type": "code",
      "source": [
        "print('Train')\n",
        "print(f'Loss: {train_loss}')\n",
        "print(f'Accuracy: {int(train_accuracy * 100)}')\n",
        "print(f'Perfomance: {train_perfomance}')\n",
        "\n",
        "print('Validation')\n",
        "print(f'Loss: {val_loss}')\n",
        "print(f'Accuracy: {int(val_accuracy * 100)}')\n",
        "print(f'Perfomance: {val_perfomance}')\n",
        "\n",
        "print('Test')\n",
        "print(f'Loss: {test_loss}')\n",
        "print(f'Accuracy: {int(test_accuracy * 100)}')\n",
        "print(f'Perfomance: {test_perfomance}')"
      ],
      "metadata": {
        "id": "XsbClCSWEtxO",
        "colab": {
          "base_uri": "https://localhost:8080/"
        },
        "outputId": "a699700b-b5fe-4548-8e57-2c12c480c800"
      },
      "execution_count": null,
      "outputs": [
        {
          "output_type": "stream",
          "name": "stdout",
          "text": [
            "Train\n",
            "Loss: 0.5347464823152914\n",
            "Accuracy: 83\n",
            "Perfomance: 3727\n",
            "Validation\n",
            "Loss: 0.5684740584757593\n",
            "Accuracy: 83\n",
            "Perfomance: 2942\n",
            "Test\n",
            "Loss: 0.5577618554234505\n",
            "Accuracy: 83\n",
            "Perfomance: 3046\n"
          ]
        }
      ]
    },
    {
      "cell_type": "code",
      "execution_count": null,
      "metadata": {
        "id": "sn_KcLMK5t5A"
      },
      "outputs": [],
      "source": []
    }
  ],
  "metadata": {
    "colab": {
      "provenance": [],
      "gpuType": "T4"
    },
    "kernelspec": {
      "display_name": "Python 3",
      "name": "python3"
    },
    "language_info": {
      "codemirror_mode": {
        "name": "ipython",
        "version": 3
      },
      "file_extension": ".py",
      "mimetype": "text/x-python",
      "name": "python",
      "nbconvert_exporter": "python",
      "pygments_lexer": "ipython3",
      "version": "3.10.12"
    },
    "accelerator": "GPU"
  },
  "nbformat": 4,
  "nbformat_minor": 0
}